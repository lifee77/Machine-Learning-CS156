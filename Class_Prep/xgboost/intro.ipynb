{
 "cells": [
  {
   "cell_type": "markdown",
   "metadata": {},
   "source": []
  },
  {
   "cell_type": "code",
   "execution_count": 3,
   "metadata": {},
   "outputs": [],
   "source": [
    "import numpy as np\n",
    "from sklearn import metrics, inspection, datasets\n",
    "from matplotlib import pyplot as plt"
   ]
  },
  {
   "cell_type": "code",
   "execution_count": 4,
   "metadata": {},
   "outputs": [
    {
     "data": {
      "image/png": "[encoded data removed]",
      "text/plain": [
       "<Figure size 700x50 with 2 Axes>"
      ]
     },
     "metadata": {},
     "output_type": "display_data"
    }
   ],
   "source": [
    "x = np.random.uniform(0, 10, size=(100,))\n",
    "y = np.sin(x) + np.random.rand(100) * 0.1\n",
    "\n",
    "fig, ax = plt.subplots(figsize=(7, 0.5))\n",
    "scatter = ax.scatter(x, np.zeros_like(x), c=y, cmap=\"Blues\", vmin=-1, vmax=1)\n",
    "ax.set_yticks([])\n",
    "fig.colorbar(scatter, ax=ax, aspect=2)\n",
    "plt.show()"
   ]
  },
  {
   "cell_type": "code",
   "execution_count": 5,
   "metadata": {},
   "outputs": [],
   "source": [
    "# create an array of zeros with same shape as x\n",
    "preds_y0 = np.full(x.shape, 0)"
   ]
  },
  {
   "cell_type": "code",
   "execution_count": 6,
   "metadata": {},
   "outputs": [],
   "source": [
    "def loss(y_true, y_pred):\n",
    "    return (y_true - y_pred) ** 2\n",
    "\n",
    "mse_loss = loss(y, preds_y0)"
   ]
  },
  {
   "cell_type": "code",
   "execution_count": 7,
   "metadata": {},
   "outputs": [],
   "source": [
    "def grad_loss(y_true, y_pred):\n",
    "    return 2 * (y_true - y_pred)\n",
    "\n",
    "# The derivative is just 2 for all x values\n",
    "# so we create an array of 2s with same shape as x\n",
    "def grad_grad_loss(y_true, y_pred):\n",
    "    return np.full(y_pred.shape, 2)"
   ]
  },
  {
   "cell_type": "code",
   "execution_count": 8,
   "metadata": {},
   "outputs": [],
   "source": [
    "# XGBoost defaults for regularization params\n",
    "lambd = 1\n",
    "gamma = 0\n",
    "\n",
    "# this computes the score, as introduced in the reading. Skim this.\n",
    "def leaf_score(leaf_true_ys, leaf_pred_ys):\n",
    "    numerator = np.sum(grad_loss(leaf_true_ys, leaf_pred_ys)**2)\n",
    "    denominator = np.sum(grad_grad_loss(leaf_true_ys, leaf_pred_ys)**2)\n",
    "    return numerator / (denominator + lambd)\n",
    " \n",
    "\n",
    "# You only need to use this function directly to solve this question:\n",
    "def gain(x, y, preds, threshold):\n",
    "    # The threshold should be a real valued number\n",
    "    left_mask = x <= threshold\n",
    "    right_mask = x >= threshold\n",
    "\n",
    "    left_child = leaf_score(y[left_mask], preds[left_mask])\n",
    "    right_child = leaf_score(y[right_mask], preds[right_mask])\n",
    "    parent = leaf_score(y, preds)\n",
    "    gain = 0.5 * (left_child + right_child - parent) - gamma\n",
    "    return gain"
   ]
  },
  {
   "cell_type": "markdown",
   "metadata": {},
   "source": [
    "# Find the threshold value that leads to the first split with the highest gain"
   ]
  },
  {
   "cell_type": "code",
   "execution_count": 10,
   "metadata": {},
   "outputs": [
    {
     "name": "stdout",
     "output_type": "stream",
     "text": [
      "Best threshold: 2.0631103559410358\n",
      "Maximum gain: 0.3204285614460127\n"
     ]
    }
   ],
   "source": [
    "#Will use a set to remove any duplicate values\n",
    "possible_thresholds = set(np.sort(x))  # Use sorted x values as potential thresholds\n",
    "max_gain = float(\"-inf\")\n",
    "best_threshold = None\n",
    "\n",
    "# Try each possible threshold and find the one with highest gain\n",
    "for threshold in possible_thresholds:\n",
    "    current_gain = gain(x, y, preds_y0, threshold)\n",
    "    if current_gain > max_gain:\n",
    "        max_gain = current_gain\n",
    "        best_threshold = threshold\n",
    "\n",
    "print(f\"Best threshold: {best_threshold}\")\n",
    "print(f\"Maximum gain: {max_gain}\")"
   ]
  },
  {
   "cell_type": "markdown",
   "metadata": {},
   "source": [
    "# 2nd Level Thresholds"
   ]
  },
  {
   "cell_type": "code",
   "execution_count": 11,
   "metadata": {},
   "outputs": [],
   "source": [
    "# Now split the data into left and right halves based on the first split\n",
    "left_mask = x <= best_threshold\n",
    "right_mask = x > best_threshold\n",
    "\n",
    "# Get the data for each half\n",
    "x_left = x[left_mask]\n",
    "y_left = y[left_mask]\n",
    "preds_left = preds_y0[left_mask]\n",
    "\n",
    "x_right = x[right_mask]\n",
    "y_right = y[right_mask]\n",
    "preds_right = preds_y0[right_mask]"
   ]
  },
  {
   "cell_type": "code",
   "execution_count": 12,
   "metadata": {},
   "outputs": [
    {
     "name": "stdout",
     "output_type": "stream",
     "text": [
      "Best left branch threshold: 1.7568114486374709\n",
      "Maximum left branch gain: 0.4588755374314299\n"
     ]
    }
   ],
   "source": [
    "# Find the best split for the left half\n",
    "left_thresholds = set(np.sort(x_left))\n",
    "left_max_gain = float(\"-inf\")\n",
    "left_best_threshold = None\n",
    "\n",
    "for threshold in left_thresholds:\n",
    "    current_gain = gain(x_left, y_left, preds_left, threshold)\n",
    "    if current_gain > left_max_gain:\n",
    "        left_max_gain = current_gain\n",
    "        left_best_threshold = threshold\n",
    "\n",
    "print(f\"Best left branch threshold: {left_best_threshold}\")\n",
    "print(f\"Maximum left branch gain: {left_max_gain}\")"
   ]
  },
  {
   "cell_type": "code",
   "execution_count": 13,
   "metadata": {},
   "outputs": [
    {
     "name": "stdout",
     "output_type": "stream",
     "text": [
      "Best right branch threshold: 2.223618977029125\n",
      "Maximum right branch gain: 0.28857184706165956\n"
     ]
    }
   ],
   "source": [
    "# Find the best split for the right half\n",
    "right_thresholds = set(np.sort(x_right))\n",
    "right_max_gain = float(\"-inf\")\n",
    "right_best_threshold = None\n",
    "\n",
    "for threshold in right_thresholds:\n",
    "    current_gain = gain(x_right, y_right, preds_right, threshold)\n",
    "    if current_gain > right_max_gain:\n",
    "        right_max_gain = current_gain\n",
    "        right_best_threshold = threshold\n",
    "\n",
    "print(f\"Best right branch threshold: {right_best_threshold}\")\n",
    "print(f\"Maximum right branch gain: {right_max_gain}\")"
   ]
  }
 ],
 "metadata": {
  "kernelspec": {
   "display_name": "base",
   "language": "python",
   "name": "python3"
  },
  "language_info": {
   "codemirror_mode": {
    "name": "ipython",
    "version": 3
   },
   "file_extension": ".py",
   "mimetype": "text/x-python",
   "name": "python",
   "nbconvert_exporter": "python",
   "pygments_lexer": "ipython3",
   "version": "3.12.2"
  }
 },
 "nbformat": 4,
 "nbformat_minor": 2
}
