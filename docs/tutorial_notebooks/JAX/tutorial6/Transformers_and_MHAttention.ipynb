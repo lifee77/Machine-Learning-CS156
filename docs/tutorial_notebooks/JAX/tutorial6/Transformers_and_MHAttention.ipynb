{
  "cells": [
    {
      "cell_type": "markdown",
      "metadata": {
        "id": "view-in-github",
        "colab_type": "text"
      },
      "source": [
        "<a href=\"https://colab.research.google.com/github/lifee77/Machine-Learning-CS156/blob/main/docs/tutorial_notebooks/JAX/tutorial6/Transformers_and_MHAttention.ipynb\" target=\"_parent\"><img src=\"https://colab.research.google.com/assets/colab-badge.svg\" alt=\"Open In Colab\"/></a>"
      ]
    },
    {
      "cell_type": "markdown",
      "metadata": {
        "id": "PTEwePanPhPz"
      },
      "source": [
        "# Tutorial 6 (JAX): Transformers and Multi-Head Attention\n",
        "\n",
        "![Status](https://img.shields.io/static/v1.svg?label=Status&message=Finished&color=green)\n",
        "\n",
        "\n",
        "**Filled notebook:**\n",
        "[![View on Github](https://img.shields.io/static/v1.svg?logo=github&label=Repo&message=View%20On%20Github&color=lightgrey)](https://github.com/phlippe/uvadlc_notebooks/blob/master/docs/tutorial_notebooks/JAX/tutorial6/Transformers_and_MHAttention.ipynb)\n",
        "[![Open In Collab](https://colab.research.google.com/assets/colab-badge.svg)](https://colab.research.google.com/github/phlippe/uvadlc_notebooks/blob/master/docs/tutorial_notebooks/JAX/tutorial6/Transformers_and_MHAttention.ipynb)  \n",
        "**Pre-trained models:**\n",
        "[![View files on Github](https://img.shields.io/static/v1.svg?logo=github&label=Repo&message=View%20On%20Github&color=lightgrey)](https://github.com/phlippe/saved_models/tree/main/JAX/tutorial6)   \n",
        "**PyTorch version:**\n",
        "[![View on RTD](https://img.shields.io/static/v1.svg?logo=readthedocs&label=RTD&message=View%20On%20RTD&color=8CA1AF)](https://uvadlc-notebooks.readthedocs.io/en/latest/tutorial_notebooks/tutorial6/Transformers_and_MHAttention.html)   \n",
        "**Author:** Phillip Lippe"
      ]
    },
    {
      "cell_type": "markdown",
      "metadata": {
        "id": "tB8_a3ysPhP2"
      },
      "source": [
        "<div class=\"alert alert-info\">\n",
        "\n",
        "**Note:** This notebook is written in JAX+Flax. It is a 1-to-1 translation of the original notebook written in PyTorch+PyTorch Lightning with almost identical results. For an introduction to JAX, check out our [Tutorial 2 (JAX): Introduction to JAX+Flax](https://uvadlc-notebooks.readthedocs.io/en/latest/tutorial_notebooks/JAX/tutorial2/Introduction_to_JAX.html). Further, throughout the notebook, we comment on major differences to the PyTorch version and provide explanations for the major parts of the JAX code.\n",
        "\n",
        "</div>"
      ]
    },
    {
      "cell_type": "markdown",
      "metadata": {
        "id": "-iFAaI-dPhP2"
      },
      "source": [
        "---\n",
        "\n",
        "**Speed comparison**: We note the training times for all models in the PyTorch and the JAX implementation below (PyTorch v1.11, JAX v0.3.13). The models were trained on the same hardware (NVIDIA RTX3090, 24 core CPU) and we slightly adjusted the tutorials to use the exact same training settings (same data loading parameters, evaluation schedule, etc.). Overall, the JAX implementation is almost *4x faster* than PyTorch! However, this is mostly due to the small model and input sizes, and the code has not been explicitly designed for benchmarking. With larger models, larger batch sizes, or smaller GPUs, the speed up is expected to become considerably smaller (see e.g. [Tutorial 15](https://uvadlc-notebooks.readthedocs.io/en/latest/tutorial_notebooks/JAX/tutorial15/Vision_Transformer.html)).\n",
        "    \n",
        "| Models            |   PyTorch   |     JAX    |\n",
        "|-------------------|:-----------:|:----------:|\n",
        "| Reverse Sequence  | 0min 26sec  | 0min 7sec  |\n",
        "| Anomaly Detection | 16min 34sec | 3min 45sec |\n",
        "\n",
        "---"
      ]
    },
    {
      "cell_type": "markdown",
      "metadata": {
        "id": "BIlwknQgPhP2"
      },
      "source": [
        "In this tutorial, we will discuss one of the most impactful architectures of the last 2 years: the Transformer model. Since the paper [Attention Is All You Need](https://arxiv.org/abs/1706.03762) by Vaswani et al. had been published in 2017, the Transformer architecture has continued to beat benchmarks in many domains, most importantly in Natural Language Processing. Transformers with an incredible amount of parameters can generate long, convincing [essays](https://www.theguardian.com/commentisfree/2020/sep/08/robot-wrote-this-article-gpt-3), and opened up new application fields of AI. As the hype of the Transformer architecture seems not to come to an end in the next years, it is important to understand how it works, and have implemented it yourself, which we will do in this notebook.\n",
        "\n",
        "Despite the huge success of Transformers in NLP, we will _not_ include the NLP domain in our notebook here. Why? Firstly, the Master AI at UvA offers many great NLP courses that will take a closer look at the application of the Transformer architecture in NLP ([NLP2](https://studiegids.uva.nl/xmlpages/page/2020-2021/zoek-vak/vak/79628), [Advanced Topics in Computational Semantics](https://studiegids.uva.nl/xmlpages/page/2020-2021/zoek-vak/vak/80162)). Secondly, assignment 2 takes already a closer look at language generation on character level, on which you could easily apply our transformer architecture. Finally, and most importantly, there is so much more to the Transformer architecture. NLP is the domain the Transformer architecture has been originally proposed for and had the greatest impact on, but it also accelerated research in other domains, recently even [Computer Vision](https://arxiv.org/abs/2010.11929). Thus, we focus here on what makes the Transformer and self-attention so powerful in general. In [Tutorial 15](https://uvadlc-notebooks.readthedocs.io/en/latest/tutorial_notebooks/JAX/tutorial15/Vision_Transformer.html), we will discuss the application of Transformers in Computer Vision.\n",
        "\n",
        "Below, we import our standard libraries. We use [JAX](https://jax.readthedocs.io/en/latest/) as acceleration backend, [Flax](https://flax.readthedocs.io/en/latest/index.html) for implementing neural networks, and [Optax](https://optax.readthedocs.io/en/latest/index.html) to optimize the models."
      ]
    },
    {
      "cell_type": "code",
      "execution_count": 1,
      "metadata": {
        "id": "0eJSGWlTPhP3",
        "outputId": "d640aea7-0a4b-48f1-980d-96a0ddaebab6",
        "colab": {
          "base_uri": "https://localhost:8080/",
          "height": 108
        }
      },
      "outputs": [
        {
          "output_type": "stream",
          "name": "stderr",
          "text": [
            "<ipython-input-1-a7256833b97d>:13: DeprecationWarning: `set_matplotlib_formats` is deprecated since IPython 7.23, directly use `matplotlib_inline.backend_inline.set_matplotlib_formats()`\n",
            "  set_matplotlib_formats('svg', 'pdf') # For export\n"
          ]
        },
        {
          "output_type": "stream",
          "name": "stdout",
          "text": [
            "Device: TFRT_CPU_0\n"
          ]
        },
        {
          "output_type": "display_data",
          "data": {
            "text/plain": [
              "<Figure size 640x480 with 0 Axes>"
            ]
          },
          "metadata": {}
        }
      ],
      "source": [
        "## Standard libraries\n",
        "import os\n",
        "import numpy as np\n",
        "import math\n",
        "import json\n",
        "from functools import partial\n",
        "\n",
        "## Imports for plotting\n",
        "import matplotlib.pyplot as plt\n",
        "plt.set_cmap('cividis')\n",
        "%matplotlib inline\n",
        "from IPython.display import set_matplotlib_formats\n",
        "set_matplotlib_formats('svg', 'pdf') # For export\n",
        "from matplotlib.colors import to_rgb\n",
        "import matplotlib\n",
        "matplotlib.rcParams['lines.linewidth'] = 2.0\n",
        "import seaborn as sns\n",
        "sns.reset_orig()\n",
        "\n",
        "## tqdm for loading bars\n",
        "from tqdm.auto import tqdm\n",
        "\n",
        "## To run JAX on TPU in Google Colab, uncomment the two lines below\n",
        "# import jax.tools.colab_tpu\n",
        "# jax.tools.colab_tpu.setup_tpu()\n",
        "\n",
        "## JAX\n",
        "import jax\n",
        "import jax.numpy as jnp\n",
        "from jax import random\n",
        "# Seeding for random operations\n",
        "main_rng = random.PRNGKey(42)\n",
        "\n",
        "## Flax (NN in JAX)\n",
        "try:\n",
        "    import flax\n",
        "except ModuleNotFoundError: # Install flax if missing\n",
        "    !pip install --quiet flax\n",
        "    import flax\n",
        "from flax import linen as nn\n",
        "from flax.training import train_state, checkpoints\n",
        "\n",
        "## Optax (Optimizers in JAX)\n",
        "try:\n",
        "    import optax\n",
        "except ModuleNotFoundError: # Install optax if missing\n",
        "    !pip install --quiet optax\n",
        "    import optax\n",
        "\n",
        "## PyTorch\n",
        "import torch\n",
        "import torch.utils.data as data\n",
        "from torch.utils.tensorboard import SummaryWriter\n",
        "import torchvision\n",
        "from torchvision import transforms\n",
        "from torchvision.datasets import CIFAR100\n",
        "\n",
        "# Path to the folder where the datasets are/should be downloaded (e.g. CIFAR10)\n",
        "DATASET_PATH = \"../../data\"\n",
        "# Path to the folder where the pretrained models are saved\n",
        "CHECKPOINT_PATH = \"../../saved_models/tutorial6_jax\"\n",
        "\n",
        "print(\"Device:\", jax.devices()[0])"
      ]
    },
    {
      "cell_type": "markdown",
      "metadata": {
        "id": "ePbQWHyHPhP4"
      },
      "source": [
        "Two pre-trained models are downloaded below. Make sure to have adjusted your `CHECKPOINT_PATH` before running this code if not already done."
      ]
    },
    {
      "cell_type": "code",
      "execution_count": 2,
      "metadata": {
        "id": "cLtr39aQPhP4"
      },
      "outputs": [],
      "source": [
        "import urllib.request\n",
        "from urllib.error import HTTPError\n",
        "# Github URL where saved models are stored for this tutorial\n",
        "base_url = \"https://raw.githubusercontent.com/phlippe/saved_models/main/JAX/tutorial6/\"\n",
        "# Files to download\n",
        "pretrained_files = [\"ReverseTask.ckpt\", \"SetAnomalyTask.ckpt\"]\n",
        "\n",
        "# Create checkpoint path if it doesn't exist yet\n",
        "os.makedirs(CHECKPOINT_PATH, exist_ok=True)\n",
        "\n",
        "# For each file, check whether it already exists. If not, try downloading it.\n",
        "for file_name in pretrained_files:\n",
        "    file_path = os.path.join(CHECKPOINT_PATH, file_name)\n",
        "    if \"/\" in file_name:\n",
        "        os.makedirs(file_path.rsplit(\"/\",1)[0], exist_ok=True)\n",
        "    if not os.path.isfile(file_path):\n",
        "        file_url = base_url + file_name\n",
        "        print(f\"Downloading {file_url}...\")\n",
        "        try:\n",
        "            urllib.request.urlretrieve(file_url, file_path)\n",
        "        except HTTPError as e:\n",
        "            print(\"Something went wrong. Please try to download the file from the GDrive folder, or contact the author with the full output including the following error:\\n\", e)"
      ]
    },
    {
      "cell_type": "markdown",
      "metadata": {
        "id": "di4qYrIrPhP5"
      },
      "source": [
        "## The Transformer architecture\n",
        "\n",
        "In the first part of this notebook, we will implement the Transformer architecture by hand. As the architecture is so popular, its main components are already integrated into Flax ([SelfAttention](https://flax.readthedocs.io/en/latest/_autosummary/flax.linen.SelfAttention.html#flax.linen.SelfAttention), [MultiHeadAttention](https://flax.readthedocs.io/en/latest/_autosummary/flax.linen.MultiHeadDotProductAttention.html#flax.linen.MultiHeadDotProductAttention)) and there exist several implementations (e.g. in [Trax](https://trax-ml.readthedocs.io/en/latest/trax.models.html#trax.models.transformer.Transformer)) and pre-trained models (e.g. on [Hugging Face](https://huggingface.co/docs/transformers/index)). However, we will implement it here ourselves, to get through to the smallest details.\n",
        "\n",
        "There are of course many more tutorials out there about attention and Transformers. Below, we list a few that are worth exploring if you are interested in the topic and might want yet another perspective on the topic after this one:\n",
        "\n",
        "* [Transformer: A Novel Neural Network Architecture for Language Understanding (Jakob Uszkoreit, 2017)](https://ai.googleblog.com/2017/08/transformer-novel-neural-network.html) - The original Google blog post about the Transformer paper, focusing on the application in machine translation.\n",
        "* [The Illustrated Transformer (Jay Alammar, 2018)](http://jalammar.github.io/illustrated-transformer/) - A very popular and great blog post intuitively explaining the Transformer architecture with many nice visualizations. The focus is on NLP.\n",
        "* [Attention? Attention! (Lilian Weng, 2018)](https://lilianweng.github.io/lil-log/2018/06/24/attention-attention.html) - A nice blog post summarizing attention mechanisms in many domains including vision.\n",
        "* [Illustrated: Self-Attention (Raimi Karim, 2019)](https://towardsdatascience.com/illustrated-self-attention-2d627e33b20a) - A nice visualization of the steps of self-attention. Recommended going through if the explanation below is too abstract for you.\n",
        "* [The Transformer family (Lilian Weng, 2020)](https://lilianweng.github.io/lil-log/2020/04/07/the-transformer-family.html) - A very detailed blog post reviewing more variants of Transformers besides the original one."
      ]
    },
    {
      "cell_type": "markdown",
      "metadata": {
        "id": "JqgoJUdtPhP5"
      },
      "source": [
        "### What is Attention?\n",
        "\n",
        "The attention mechanism describes a recent new group of layers in neural networks that has attracted a lot of interest in the past few years, especially in sequence tasks. There are a lot of different possible definitions of \"attention\" in the literature, but the one we will use here is the following: _the attention mechanism describes a weighted average of (sequence) elements with the weights dynamically computed based on an input query and elements' keys_. So what does this exactly mean? The goal is to take an average over the features of multiple elements. However, instead of weighting each element equally, we want to weight them depending on their actual values. In other words, we want to dynamically decide on which inputs we want to \"attend\" more than others. In particular, an attention mechanism has usually four parts we need to specify:\n",
        "\n",
        "* **Query**: The query is a feature vector that describes what we are looking for in the sequence, i.e. what would we maybe want to pay attention to.\n",
        "* **Keys**: For each input element, we have a key which is again a feature vector. This feature vector roughly describes what the element is \"offering\", or when it might be important. The keys should be designed such that we can identify the elements we want to pay attention to based on the query.\n",
        "* **Values**: For each input element, we also have a value vector. This feature vector is the one we want to average over.\n",
        "* **Score function**: To rate which elements we want to pay attention to, we need to specify a score function $f_{attn}$. The score function takes the query and a key as input, and output the score/attention weight of the query-key pair. It is usually implemented by simple similarity metrics like a dot product, or a small MLP.\n",
        "\n",
        "\n",
        "The weights of the average are calculated by a softmax over all score function outputs. Hence, we assign those value vectors a higher weight whose corresponding key is most similar to the query. If we try to describe it with pseudo-math, we can write:\n",
        "\n",
        "$$\n",
        "\\alpha_i = \\frac{\\exp\\left(f_{attn}\\left(\\text{key}_i, \\text{query}\\right)\\right)}{\\sum_j \\exp\\left(f_{attn}\\left(\\text{key}_j, \\text{query}\\right)\\right)}, \\hspace{5mm} \\text{out} = \\sum_i \\alpha_i \\cdot \\text{value}_i\n",
        "$$\n",
        "\n",
        "Visually, we can show the attention over a sequence of words as follows:\n",
        "\n",
        "<center width=\"100%\" style=\"padding:25px\"><img src=\"https://github.com/phlippe/uvadlc_notebooks/blob/master/docs/tutorial_notebooks/tutorial6/attention_example.svg?raw=1\" width=\"750px\"></center>\n",
        "\n",
        "For every word, we have one key and one value vector. The query is compared to all keys with a score function (in this case the dot product) to determine the weights. The softmax is not visualized for simplicity. Finally, the value vectors of all words are averaged using the attention weights.\n",
        "\n",
        "Most attention mechanisms differ in terms of what queries they use, how the key and value vectors are defined, and what score function is used. The attention applied inside the Transformer architecture is called **self-attention**. In self-attention, each sequence element provides a key, value, and query. For each element, we perform an attention layer where based on its query, we check the similarity of the all sequence elements' keys, and returned a different, averaged value vector for each element. We will now go into a bit more detail by first looking at the specific implementation of the attention mechanism which is in the Transformer case the scaled dot product attention."
      ]
    },
    {
      "cell_type": "markdown",
      "metadata": {
        "id": "ccJ_Xa5uPhP5"
      },
      "source": [
        "### Scaled Dot Product Attention\n",
        "\n",
        "The core concept behind self-attention is the scaled dot product attention. Our goal is to have an attention mechanism with which any element in a sequence can attend to any other while still being efficient to compute. The dot product attention takes as input a set of queries $Q\\in\\mathbb{R}^{T\\times d_k}$, keys $K\\in\\mathbb{R}^{T\\times d_k}$ and values $V\\in\\mathbb{R}^{T\\times d_v}$ where $T$ is the sequence length, and $d_k$ and $d_v$ are the hidden dimensionality for queries/keys and values respectively. For simplicity, we neglect the batch dimension for now. The attention value from element $i$ to $j$ is based on its similarity of the query $Q_i$ and key $K_j$, using the dot product as the similarity metric. In math, we calculate the dot product attention as follows:\n",
        "\n",
        "$$\\text{Attention}(Q,K,V)=\\text{softmax}\\left(\\frac{QK^T}{\\sqrt{d_k}}\\right)V$$\n",
        "\n",
        "The matrix multiplication $QK^T$ performs the dot product for every possible pair of queries and keys, resulting in a matrix of the shape $T\\times T$. Each row represents the attention logits for a specific element $i$ to all other elements in the sequence. On these, we apply a softmax and multiply with the value vector to obtain a weighted mean (the weights being determined by the attention). Another perspective on this attention mechanism offers the computation graph which is visualized below (figure credit - [Vaswani et al., 2017](https://arxiv.org/abs/1706.03762)).\n",
        "\n",
        "<center width=\"100%\"><img src=\"https://github.com/phlippe/uvadlc_notebooks/blob/master/docs/tutorial_notebooks/tutorial6/scaled_dot_product_attn.svg?raw=1\" width=\"210px\"></center>\n",
        "\n",
        "One aspect we haven't discussed yet is the scaling factor of $1/\\sqrt{d_k}$. This scaling factor is crucial to maintain an appropriate variance of attention values after initialization. Remember that we intialize our layers with the intention of having equal variance throughout the model, and hence, $Q$ and $K$ might also have a variance close to $1$. However, performing a dot product over two vectors with a variance $\\sigma^2$ results in a scalar having $d_k$-times higher variance:\n",
        "\n",
        "$$q_i \\sim \\mathcal{N}(0,\\sigma^2), k_i \\sim \\mathcal{N}(0,\\sigma^2) \\to \\text{Var}\\left(\\sum_{i=1}^{d_k} q_i\\cdot k_i\\right) = \\sigma^4\\cdot d_k$$\n",
        "\n",
        "\n",
        "If we do not scale down the variance back to $\\sim\\sigma^2$, the softmax over the logits will already saturate to $1$ for one random element and $0$ for all others. The gradients through the softmax will be close to zero so that we can't learn the parameters appropriately. Note that the extra factor of $\\sigma^2$, i.e., having $\\sigma^4$ instead of $\\sigma^2$, is usually not an issue, since we keep the original variance $\\sigma^2$ close to $1$ anyways.\n",
        "\n",
        "The block `Mask (opt.)` in the diagram above represents the optional masking of specific entries in the attention matrix. This is for instance used if we stack multiple sequences with different lengths into a batch. To still benefit from parallelization in PyTorch, we pad the sentences to the same length and mask out the padding tokens during the calculation of the attention values. This is usually done by setting the respective attention logits to a very low value.\n",
        "\n",
        "After we have discussed the details of the scaled dot product attention block, we can write a function below which computes the output features given the triple of queries, keys, and values:"
      ]
    },
    {
      "cell_type": "code",
      "execution_count": 3,
      "metadata": {
        "id": "b62Mx_JxPhP6"
      },
      "outputs": [],
      "source": [
        "def scaled_dot_product(q, k, v, mask=None):\n",
        "    d_k = q.shape[-1]\n",
        "    attn_logits = jnp.matmul(q, jnp.swapaxes(k, -2, -1))\n",
        "    attn_logits = attn_logits / math.sqrt(d_k)\n",
        "    if mask is not None:\n",
        "        attn_logits = jnp.where(mask == 0, -9e15, attn_logits)\n",
        "    attention = nn.softmax(attn_logits, axis=-1)\n",
        "    values = jnp.matmul(attention, v)\n",
        "    return values, attention"
      ]
    },
    {
      "cell_type": "markdown",
      "metadata": {
        "id": "phaNknHHPhP6"
      },
      "source": [
        "Note that our code above supports any additional dimensionality in front of the sequence length so that we can also use it for batches. However, for a better understanding, let's generate a few random queries, keys, and value vectors, and calculate the attention outputs:"
      ]
    },
    {
      "cell_type": "code",
      "execution_count": 4,
      "metadata": {
        "id": "Fz6ONvBXPhP6",
        "outputId": "37a4a2a9-35a1-4dfc-e653-81cb3000f7b2",
        "colab": {
          "base_uri": "https://localhost:8080/"
        }
      },
      "outputs": [
        {
          "output_type": "stream",
          "name": "stdout",
          "text": [
            "Q\n",
            " [[ 0.60576403  0.7990441 ]\n",
            " [-0.908927   -0.63525754]\n",
            " [-1.2226585  -0.83226097]]\n",
            "K\n",
            " [[-0.47417238 -1.2504351 ]\n",
            " [-0.17678244 -0.04917514]\n",
            " [-0.41177532 -0.39363015]]\n",
            "V\n",
            " [[ 1.3116323   0.21555556]\n",
            " [ 0.41164538 -0.28955024]\n",
            " [-0.96516913  0.4492738 ]]\n",
            "Values\n",
            " [[0.12734914 0.06441191]\n",
            " [0.4115729  0.17320421]\n",
            " [0.46902645 0.1854193 ]]\n",
            "Attention\n",
            " [[0.20383833 0.4564296  0.33973208]\n",
            " [0.46830934 0.2255167  0.30617398]\n",
            " [0.51187545 0.19520193 0.29292265]]\n"
          ]
        }
      ],
      "source": [
        "seq_len, d_k = 3, 2\n",
        "main_rng, rand1 = random.split(main_rng)\n",
        "qkv = random.normal(rand1, (3, seq_len, d_k))\n",
        "q, k, v = qkv[0], qkv[1], qkv[2]\n",
        "values, attention = scaled_dot_product(q, k, v)\n",
        "print(\"Q\\n\", q)\n",
        "print(\"K\\n\", k)\n",
        "print(\"V\\n\", v)\n",
        "print(\"Values\\n\", values)\n",
        "print(\"Attention\\n\", attention)"
      ]
    },
    {
      "cell_type": "markdown",
      "metadata": {
        "id": "83w-DsptPhP6"
      },
      "source": [
        "Before continuing, make sure you can follow the calculation of the specific values here, and also check it by hand. It is important to fully understand how the scaled dot product attention is calculated."
      ]
    },
    {
      "cell_type": "markdown",
      "metadata": {
        "id": "358kEPWqPhP6"
      },
      "source": [
        "### Multi-Head Attention\n",
        "\n",
        "The scaled dot product attention allows a network to attend over a sequence. However, often there are multiple different aspects a sequence element wants to attend to, and a single weighted average is not a good option for it. This is why we extend the attention mechanisms to multiple heads, i.e. multiple different query-key-value triplets on the same features. Specifically, given a query, key, and value matrix, we transform those into $h$ sub-queries, sub-keys, and sub-values, which we pass through the scaled dot product attention independently. Afterward, we concatenate the heads and combine them with a final weight matrix. Mathematically, we can express this operation as:\n",
        "\n",
        "$$\n",
        "\\begin{split}\n",
        "    \\text{Multihead}(Q,K,V) & = \\text{Concat}(\\text{head}_1,...,\\text{head}_h)W^{O}\\\\\n",
        "    \\text{where } \\text{head}_i & = \\text{Attention}(QW_i^Q,KW_i^K, VW_i^V)\n",
        "\\end{split}\n",
        "$$\n",
        "\n",
        "We refer to this as Multi-Head Attention layer with the learnable parameters $W_{1...h}^{Q}\\in\\mathbb{R}^{D\\times d_k}$, $W_{1...h}^{K}\\in\\mathbb{R}^{D\\times d_k}$, $W_{1...h}^{V}\\in\\mathbb{R}^{D\\times d_v}$, and $W^{O}\\in\\mathbb{R}^{h\\cdot d_v\\times d_{out}}$ ($D$ being the input dimensionality). Expressed in a computational graph, we can visualize it as below (figure credit - [Vaswani et al., 2017](https://arxiv.org/abs/1706.03762)).\n",
        "\n",
        "<center width=\"100%\"><img src=\"https://github.com/phlippe/uvadlc_notebooks/blob/master/docs/tutorial_notebooks/tutorial6/multihead_attention.svg?raw=1\" width=\"230px\"></center>\n",
        "\n",
        "How are we applying a Multi-Head Attention layer in a neural network, where we don't have an arbitrary query, key, and value vector as input? Looking at the computation graph above, a simple but effective implementation is to set the current feature map in a NN, $X\\in\\mathbb{R}^{B\\times T\\times d_{\\text{model}}}$, as $Q$, $K$ and $V$ ($B$ being the batch size, $T$ the sequence length, $d_{\\text{model}}$ the hidden dimensionality of $X$). The consecutive weight matrices $W^{Q}$, $W^{K}$, and $W^{V}$ can transform $X$ to the corresponding feature vectors that represent the queries, keys, and values of the input. Note that commonly, these weight matrices are initialized with the Xavier initialization. However, the layer is usually not too sensitive to the initialization, as long as the variance of $Q$ and $K$ do not become too large.\n",
        "With this in mind, we can implement the Multi-Head Attention module below."
      ]
    },
    {
      "cell_type": "code",
      "execution_count": 5,
      "metadata": {
        "id": "yMRUWue7PhP6"
      },
      "outputs": [],
      "source": [
        "# Helper function to support different mask shapes.\n",
        "# Output shape supports (batch_size, number of heads, seq length, seq length)\n",
        "# If 2D: broadcasted over batch size and number of heads\n",
        "# If 3D: broadcasted over number of heads\n",
        "# If 4D: leave as is\n",
        "def expand_mask(mask):\n",
        "    assert mask.ndim >= 2, \"Mask must be at least 2-dimensional with seq_length x seq_length\"\n",
        "    if mask.ndim == 3:\n",
        "        mask = mask.unsqueeze(1)\n",
        "    while mask.ndim < 4:\n",
        "        mask = mask.unsqueeze(0)\n",
        "    return mask"
      ]
    },
    {
      "cell_type": "code",
      "execution_count": 6,
      "metadata": {
        "id": "HCRwTpVjPhP6"
      },
      "outputs": [],
      "source": [
        "class MultiheadAttention(nn.Module):\n",
        "    embed_dim : int  # Output dimension\n",
        "    num_heads : int  # Number of parallel heads (h)\n",
        "\n",
        "    def setup(self):\n",
        "        # Stack all weight matrices 1...h and W^Q, W^K, W^V together for efficiency\n",
        "        # Note that in many implementations you see \"bias=False\" which is optional\n",
        "        self.qkv_proj = nn.Dense(3*self.embed_dim,\n",
        "                                 kernel_init=nn.initializers.xavier_uniform(),  # Weights with Xavier uniform init\n",
        "                                 bias_init=nn.initializers.zeros  # Bias init with zeros\n",
        "                                )\n",
        "        self.o_proj = nn.Dense(self.embed_dim,\n",
        "                               kernel_init=nn.initializers.xavier_uniform(),\n",
        "                               bias_init=nn.initializers.zeros)\n",
        "\n",
        "    def __call__(self, x, mask=None):\n",
        "        batch_size, seq_length, embed_dim = x.shape\n",
        "        if mask is not None:\n",
        "            mask = expand_mask(mask)\n",
        "        qkv = self.qkv_proj(x)\n",
        "\n",
        "        # Separate Q, K, V from linear output\n",
        "        qkv = qkv.reshape(batch_size, seq_length, self.num_heads, -1)\n",
        "        qkv = qkv.transpose(0, 2, 1, 3) # [Batch, Head, SeqLen, Dims]\n",
        "        q, k, v = jnp.array_split(qkv, 3, axis=-1)\n",
        "\n",
        "        # Determine value outputs\n",
        "        values, attention = scaled_dot_product(q, k, v, mask=mask)\n",
        "        values = values.transpose(0, 2, 1, 3) # [Batch, SeqLen, Head, Dims]\n",
        "        values = values.reshape(batch_size, seq_length, embed_dim)\n",
        "        o = self.o_proj(values)\n",
        "\n",
        "        return o, attention"
      ]
    },
    {
      "cell_type": "code",
      "execution_count": 7,
      "metadata": {
        "id": "T_UiWqj_PhP7",
        "outputId": "3c54b220-ba20-4368-8295-d255e56e95bd",
        "colab": {
          "base_uri": "https://localhost:8080/"
        }
      },
      "outputs": [
        {
          "output_type": "stream",
          "name": "stdout",
          "text": [
            "Out (3, 16, 128) Attention (3, 4, 16, 16)\n"
          ]
        }
      ],
      "source": [
        "## Test MultiheadAttention implementation\n",
        "# Example features as input\n",
        "main_rng, x_rng = random.split(main_rng)\n",
        "x = random.normal(x_rng, (3, 16, 128))\n",
        "# Create attention\n",
        "mh_attn = MultiheadAttention(embed_dim=128, num_heads=4)\n",
        "# Initialize parameters of attention with random key and inputs\n",
        "main_rng, init_rng = random.split(main_rng)\n",
        "params = mh_attn.init(init_rng, x)['params']\n",
        "# Apply attention with parameters on the inputs\n",
        "out, attn = mh_attn.apply({'params': params}, x)\n",
        "print('Out', out.shape, 'Attention', attn.shape)\n",
        "\n",
        "del mh_attn, params"
      ]
    },
    {
      "cell_type": "markdown",
      "metadata": {
        "id": "MHDGtJE-PhP7"
      },
      "source": [
        "One crucial characteristic of the multi-head attention is that it is permutation-equivariant with respect to its inputs. This means that if we switch two input elements in the sequence, e.g. $X_1\\leftrightarrow X_2$ (neglecting the batch dimension for now), the output is exactly the same besides the elements 1 and 2 switched. Hence, the multi-head attention is actually looking at the input not as a sequence, but as a set of elements. This property makes the multi-head attention block and the Transformer architecture so powerful and widely applicable! But what if the order of the input is actually important for solving the task, like language modeling? The answer is to encode the position in the input features, which we will take a closer look at later (topic _Positional encodings_ below).\n",
        "\n",
        "Before moving on to creating the Transformer architecture, we can compare the self-attention operation with our other common layer competitors for sequence data: convolutions and recurrent neural networks. Below you can find a table by [Vaswani et al. (2017)](https://arxiv.org/abs/1706.03762) on the complexity per layer, the number of sequential operations, and maximum path length. The complexity is measured by the upper bound of the number of operations to perform, while the maximum path length represents the maximum number of steps a forward or backward signal has to traverse to reach any other position. The lower this length, the better gradient signals can backpropagate for long-range dependencies. Let's take a look at the table below:\n",
        "\n",
        "\n",
        "<center width=\"100%\"><img src=\"https://github.com/phlippe/uvadlc_notebooks/blob/master/docs/tutorial_notebooks/tutorial6/comparison_conv_rnn.svg?raw=1\" width=\"600px\"></center>\n",
        "\n",
        "$n$ is the sequence length, $d$ is the representation dimension and $k$ is the kernel size of convolutions. In contrast to recurrent networks, the self-attention layer can parallelize all its operations making it much faster to execute for smaller sequence lengths. However, when the sequence length exceeds the hidden dimensionality, self-attention becomes more expensive than RNNs. One way of reducing the computational cost for long sequences is by restricting the self-attention to a neighborhood of inputs to attend over, denoted by $r$. Nevertheless, there has been recently a lot of work on more efficient Transformer architectures that still allow long dependencies, of which you can find an overview in the paper by [Tay et al. (2020)](https://arxiv.org/abs/2009.06732) if interested."
      ]
    },
    {
      "cell_type": "markdown",
      "metadata": {
        "id": "0o6CjJvIPhP7"
      },
      "source": [
        "### Transformer Encoder\n",
        "\n",
        "Next, we will look at how to apply the multi-head attention block inside the Transformer architecture. Originally, the Transformer model was designed for machine translation. Hence, it got an encoder-decoder structure where the encoder takes as input the sentence in the original language and generates an attention-based representation. On the other hand, the decoder attends over the encoded information and generates the translated sentence in an autoregressive manner, as in a standard RNN. While this structure is extremely useful for Sequence-to-Sequence tasks with the necessity of autoregressive decoding, we will focus here on the encoder part. Many advances in NLP have been made using pure encoder-based Transformer models (if interested, models include the [BERT](https://arxiv.org/abs/1810.04805)-family, the [Vision Transformer](https://arxiv.org/abs/2010.11929), and more), and in our tutorial, we will also mainly focus on the encoder part. If you have understood the encoder architecture, the decoder is a very small step to implement as well. The full Transformer architecture looks as follows (figure credit - [Vaswani et al., 2017](https://arxiv.org/abs/1706.03762)).:\n",
        "\n",
        "<center width=\"100%\"><img src=\"https://github.com/phlippe/uvadlc_notebooks/blob/master/docs/tutorial_notebooks/tutorial6/transformer_architecture.svg?raw=1\" width=\"400px\"></center>\n",
        "\n",
        "The encoder consists of $N$ identical blocks that are applied in sequence. Taking as input $x$, it is first passed through a Multi-Head Attention block as we have implemented above. The output is added to the original input using a residual connection, and we apply a consecutive Layer Normalization on the sum. Overall, it calculates $\\text{LayerNorm}(x+\\text{Multihead}(x,x,x))$ ($x$ being $Q$, $K$ and $V$ input to the attention layer). The residual connection is crucial in the Transformer architecture for two reasons:\n",
        "\n",
        "1. Similar to ResNets, Transformers are designed to be very deep. Some models contain more than 24 blocks in the encoder. Hence, the residual connections are crucial for enabling a smooth gradient flow through the model.\n",
        "2. Without the residual connection, the information about the original sequence is lost. Remember that the Multi-Head Attention layer ignores the position of elements in a sequence, and can only learn it based on the input features. Removing the residual connections would mean that this information is lost after the first attention layer (after initialization), and with a randomly initialized query and key vector, the output vectors for position $i$ has no relation to its original input. All outputs of the attention are likely to represent similar/same information, and there is no chance for the model to distinguish which information came from which input element. An alternative option to residual connection would be to fix at least one head to focus on its original input, but this is very inefficient and does not have the benefit of the improved gradient flow.\n",
        "\n",
        "The Layer Normalization also plays an important role in the Transformer architecture as it enables faster training and provides small regularization. Additionally, it ensures that the features are in a similar magnitude among the elements in the sequence. We are not using Batch Normalization because it depends on the batch size which is often small with Transformers (they require a lot of GPU memory), and BatchNorm has shown to perform particularly bad in language as the features of words tend to have a much higher variance (there are many, very rare words which need to be considered for a good distribution estimate).\n",
        "\n",
        "Additionally to the Multi-Head Attention, a small fully connected feed-forward network is added to the model, which is applied to each position separately and identically. Specifically, the model uses a Linear$\\to$ReLU$\\to$Linear MLP. The full transformation including the residual connection can be expressed as:  \n",
        "\n",
        "$$\n",
        "\\begin{split}\n",
        "    \\text{FFN}(x) & = \\max(0, xW_1+b_1)W_2 + b_2\\\\\n",
        "    x & = \\text{LayerNorm}(x + \\text{FFN}(x))\n",
        "\\end{split}\n",
        "$$\n",
        "\n",
        "This MLP adds extra complexity to the model and allows transformations on each sequence element separately. You can imagine as this allows the model to \"post-process\" the new information added by the previous Multi-Head Attention, and prepare it for the next attention block. Usually, the inner dimensionality of the MLP is 2-8$\\times$ larger than $d_{\\text{model}}$, i.e. the dimensionality of the original input $x$. The general advantage of a wider layer instead of a narrow, multi-layer MLP is the faster, parallelizable execution.\n",
        "\n",
        "Finally, after looking at all parts of the encoder architecture, we can start implementing it below. We first start by implementing a single encoder block. Additionally to the layers described above, we will add dropout layers in the MLP and on the output of the MLP and Multi-Head Attention for regularization."
      ]
    },
    {
      "cell_type": "code",
      "execution_count": 8,
      "metadata": {
        "id": "f794MJTsPhP7"
      },
      "outputs": [],
      "source": [
        "class EncoderBlock(nn.Module):\n",
        "    input_dim : int  # Input dimension is needed here since it is equal to the output dimension (residual connection)\n",
        "    num_heads : int\n",
        "    dim_feedforward : int\n",
        "    dropout_prob : float\n",
        "\n",
        "    def setup(self):\n",
        "        # Attention layer\n",
        "        self.self_attn = MultiheadAttention(embed_dim=self.input_dim,\n",
        "                                            num_heads=self.num_heads)\n",
        "        # Two-layer MLP\n",
        "        self.linear = [\n",
        "            nn.Dense(self.dim_feedforward),\n",
        "            nn.Dropout(self.dropout_prob),\n",
        "            nn.relu,\n",
        "            nn.Dense(self.input_dim)\n",
        "        ]\n",
        "        # Layers to apply in between the main layers\n",
        "        self.norm1 = nn.LayerNorm()\n",
        "        self.norm2 = nn.LayerNorm()\n",
        "        self.dropout = nn.Dropout(self.dropout_prob)\n",
        "\n",
        "    def __call__(self, x, mask=None, train=True):\n",
        "        # Attention part\n",
        "        attn_out, _ = self.self_attn(x, mask=mask)\n",
        "        x = x + self.dropout(attn_out, deterministic=not train)\n",
        "        x = self.norm1(x)\n",
        "\n",
        "        # MLP part\n",
        "        linear_out = x\n",
        "        for l in self.linear:\n",
        "            linear_out = l(linear_out) if not isinstance(l, nn.Dropout) else l(linear_out, deterministic=not train)\n",
        "        x = x + self.dropout(linear_out, deterministic=not train)\n",
        "        x = self.norm2(x)\n",
        "\n",
        "        return x"
      ]
    },
    {
      "cell_type": "code",
      "execution_count": 9,
      "metadata": {
        "scrolled": false,
        "id": "yxQBKvmaPhP7",
        "outputId": "a8ab1008-e6ca-49ae-b3e8-4b39d3d2eb9d",
        "colab": {
          "base_uri": "https://localhost:8080/"
        }
      },
      "outputs": [
        {
          "output_type": "stream",
          "name": "stdout",
          "text": [
            "Out (3, 16, 128)\n"
          ]
        }
      ],
      "source": [
        "## Test EncoderBlock implementation\n",
        "# Example features as input\n",
        "main_rng, x_rng = random.split(main_rng)\n",
        "x = random.normal(x_rng, (3, 16, 128))\n",
        "# Create encoder block\n",
        "encblock = EncoderBlock(input_dim=128, num_heads=4, dim_feedforward=512, dropout_prob=0.1)\n",
        "# Initialize parameters of encoder block with random key and inputs\n",
        "main_rng, init_rng, dropout_init_rng = random.split(main_rng, 3)\n",
        "params = encblock.init({'params': init_rng, 'dropout': dropout_init_rng}, x, train=True)['params']\n",
        "# Apply encoder block with parameters on the inputs\n",
        "# Since dropout is stochastic, we need to pass a rng to the forward\n",
        "main_rng, dropout_apply_rng = random.split(main_rng)\n",
        "out = encblock.apply({'params': params}, x, train=True, rngs={'dropout': dropout_apply_rng})\n",
        "print('Out', out.shape)\n",
        "\n",
        "del encblock, params"
      ]
    },
    {
      "cell_type": "markdown",
      "metadata": {
        "id": "LHv2ydQePhP7"
      },
      "source": [
        "Based on this block, we can implement a module for the full Transformer encoder. Additionally to a forward function that iterates through the sequence of encoder blocks, we also provide a function called `get_attention_maps`. The idea of this function is to return the attention probabilities for all Multi-Head Attention blocks in the encoder. This helps us in understanding, and in a sense, explaining the model. However, the attention probabilities should be interpreted with a grain of salt as it does not necessarily reflect the true interpretation of the model (there is a series of papers about this, including [Attention is not Explanation](https://arxiv.org/abs/1902.10186) and [Attention is not not Explanation](https://arxiv.org/abs/1908.04626))."
      ]
    },
    {
      "cell_type": "code",
      "execution_count": 10,
      "metadata": {
        "id": "YpXuRFtMPhP7"
      },
      "outputs": [],
      "source": [
        "class TransformerEncoder(nn.Module):\n",
        "    num_layers : int\n",
        "    input_dim : int\n",
        "    num_heads : int\n",
        "    dim_feedforward : int\n",
        "    dropout_prob : float\n",
        "\n",
        "    def setup(self):\n",
        "        self.layers = [EncoderBlock(self.input_dim, self.num_heads, self.dim_feedforward, self.dropout_prob) for _ in range(self.num_layers)]\n",
        "\n",
        "    def __call__(self, x, mask=None, train=True):\n",
        "        for l in self.layers:\n",
        "            x = l(x, mask=mask, train=train)\n",
        "        return x\n",
        "\n",
        "    def get_attention_maps(self, x, mask=None, train=True):\n",
        "        # A function to return the attention maps within the model for a single application\n",
        "        # Used for visualization purpose later\n",
        "        attention_maps = []\n",
        "        for l in self.layers:\n",
        "            _, attn_map = l.self_attn(x, mask=mask)\n",
        "            attention_maps.append(attn_map)\n",
        "            x = l(x, mask=mask, train=train)\n",
        "        return attention_maps"
      ]
    },
    {
      "cell_type": "code",
      "execution_count": 11,
      "metadata": {
        "id": "FqBRyUfYPhP7",
        "outputId": "ad6b95b1-017b-4a7d-da03-95da0afd0f5f",
        "colab": {
          "base_uri": "https://localhost:8080/"
        }
      },
      "outputs": [
        {
          "output_type": "stream",
          "name": "stdout",
          "text": [
            "Out (3, 16, 128)\n",
            "Attention maps 5 (3, 4, 16, 16)\n"
          ]
        }
      ],
      "source": [
        "## Test TransformerEncoder implementation\n",
        "# Example features as input\n",
        "main_rng, x_rng = random.split(main_rng)\n",
        "x = random.normal(x_rng, (3, 16, 128))\n",
        "# Create Transformer encoder\n",
        "transenc = TransformerEncoder(num_layers=5,\n",
        "                              input_dim=128,\n",
        "                              num_heads=4,\n",
        "                              dim_feedforward=256,\n",
        "                              dropout_prob=0.15)\n",
        "# Initialize parameters of transformer with random key and inputs\n",
        "main_rng, init_rng, dropout_init_rng = random.split(main_rng, 3)\n",
        "params = transenc.init({'params': init_rng, 'dropout': dropout_init_rng}, x, train=True)['params']\n",
        "# Apply transformer with parameters on the inputs\n",
        "# Since dropout is stochastic, we need to pass a rng to the forward\n",
        "main_rng, dropout_apply_rng = random.split(main_rng)\n",
        "# Instead of passing params and rngs every time to a function call, we can bind them to the module\n",
        "binded_mod = transenc.bind({'params': params}, rngs={'dropout': dropout_apply_rng})\n",
        "out = binded_mod(x, train=True)\n",
        "print('Out', out.shape)\n",
        "attn_maps = binded_mod.get_attention_maps(x, train=True)\n",
        "print('Attention maps', len(attn_maps), attn_maps[0].shape)\n",
        "\n",
        "del transenc, binded_mod, params"
      ]
    },
    {
      "cell_type": "markdown",
      "metadata": {
        "id": "CEte0-O0PhP8"
      },
      "source": [
        "### Positional encoding\n",
        "\n",
        "We have discussed before that the Multi-Head Attention block is permutation-equivariant, and cannot distinguish whether an input comes before another one in the sequence or not. In tasks like language understanding, however, the position is important for interpreting the input words. The position information can therefore be added via the input features. We could learn a embedding for every possible position, but this would not generalize to a dynamical input sequence length. Hence, the better option is to use feature patterns that the network can identify from the features and potentially generalize to larger sequences. The specific pattern chosen by Vaswani et al. are sine and cosine functions of different frequencies, as follows:\n",
        "\n",
        "$$\n",
        "PE_{(pos,i)} = \\begin{cases}\n",
        "    \\sin\\left(\\frac{pos}{10000^{i/d_{\\text{model}}}}\\right) & \\text{if}\\hspace{3mm} i \\text{ mod } 2=0\\\\\n",
        "    \\cos\\left(\\frac{pos}{10000^{(i-1)/d_{\\text{model}}}}\\right) & \\text{otherwise}\\\\\n",
        "\\end{cases}\n",
        "$$\n",
        "\n",
        "$PE_{(pos,i)}$ represents the position encoding at position $pos$ in the sequence, and hidden dimensionality $i$. These values, concatenated for all hidden dimensions, are added to the original input features (in the Transformer visualization above, see \"Positional encoding\"), and constitute the position information. We distinguish between even ($i \\text{ mod } 2=0$) and uneven ($i \\text{ mod } 2=1$) hidden dimensionalities where we apply a sine/cosine respectively. The intuition behind this encoding is that you can represent $PE_{(pos+k,:)}$ as a linear function of $PE_{(pos,:)}$, which might allow the model to easily attend to relative positions. The wavelengths in different dimensions range from $2\\pi$ to $10000\\cdot 2\\pi$.\n",
        "\n",
        "The positional encoding is implemented below."
      ]
    },
    {
      "cell_type": "code",
      "execution_count": 12,
      "metadata": {
        "id": "2acAephFPhP8"
      },
      "outputs": [],
      "source": [
        "class PositionalEncoding(nn.Module):\n",
        "    d_model : int         # Hidden dimensionality of the input.\n",
        "    max_len : int = 5000  # Maximum length of a sequence to expect.\n",
        "\n",
        "    def setup(self):\n",
        "        # Create matrix of [SeqLen, HiddenDim] representing the positional encoding for max_len inputs\n",
        "        pe = np.zeros((self.max_len, self.d_model))\n",
        "        position = np.arange(0, self.max_len, dtype=np.float32)[:,None]\n",
        "        div_term = np.exp(np.arange(0, self.d_model, 2) * (-math.log(10000.0) / self.d_model))\n",
        "        pe[:, 0::2] = np.sin(position * div_term)\n",
        "        pe[:, 1::2] = np.cos(position * div_term)\n",
        "        pe = pe[None]\n",
        "        self.pe = jax.device_put(pe)\n",
        "\n",
        "    def __call__(self, x):\n",
        "        x = x + self.pe[:, :x.shape[1]]\n",
        "        return x"
      ]
    },
    {
      "cell_type": "markdown",
      "metadata": {
        "id": "5peOPNyZPhP8"
      },
      "source": [
        "To understand the positional encoding, we can visualize it below. We will generate an image of the positional encoding over hidden dimensionality and position in a sequence. Each pixel, therefore, represents the change of the input feature we perform to encode the specific position. Let's do it below."
      ]
    },
    {
      "cell_type": "code",
      "execution_count": null,
      "metadata": {
        "id": "MCqRTc31PhP8"
      },
      "outputs": [],
      "source": [
        "# Create encoding block, bind to access positional encoding (module has no parameters)\n",
        "encod_block = PositionalEncoding(d_model=48, max_len=96).bind({})\n",
        "# Obtain positional encodings as numpy array\n",
        "pe = jax.device_get(encod_block.pe.squeeze().T)\n",
        "\n",
        "fig, ax = plt.subplots(nrows=1, ncols=1, figsize=(8,3))\n",
        "pos = ax.imshow(pe, cmap=\"RdGy\", extent=(1,pe.shape[1]+1,pe.shape[0]+1,1))\n",
        "fig.colorbar(pos, ax=ax)\n",
        "ax.set_xlabel(\"Position in sequence\")\n",
        "ax.set_ylabel(\"Hidden dimension\")\n",
        "ax.set_title(\"Positional encoding over hidden dimensions\")\n",
        "ax.set_xticks([1]+[i*10 for i in range(1,1+pe.shape[1]//10)])\n",
        "ax.set_yticks([1]+[i*10 for i in range(1,1+pe.shape[0]//10)])\n",
        "plt.show()"
      ]
    },
    {
      "cell_type": "markdown",
      "metadata": {
        "id": "D7haeCO9PhP8"
      },
      "source": [
        "You can clearly see the sine and cosine waves with different wavelengths that encode the position in the hidden dimensions. Specifically, we can look at the sine/cosine wave for each hidden dimension separately, to get a better intuition of the pattern. Below we visualize the positional encoding for the hidden dimensions $1$, $2$, $3$ and $4$."
      ]
    },
    {
      "cell_type": "code",
      "execution_count": null,
      "metadata": {
        "id": "KBJqPU9NPhP8"
      },
      "outputs": [],
      "source": [
        "sns.set_theme()\n",
        "fig, ax = plt.subplots(2, 2, figsize=(12,4))\n",
        "ax = [a for a_list in ax for a in a_list]\n",
        "for i in range(len(ax)):\n",
        "    ax[i].plot(np.arange(1,17), pe[i,:16], color=f'C{i}', marker=\"o\", markersize=6, markeredgecolor=\"black\")\n",
        "    ax[i].set_title(f\"Encoding in hidden dimension {i+1}\")\n",
        "    ax[i].set_xlabel(\"Position in sequence\", fontsize=10)\n",
        "    ax[i].set_ylabel(\"Positional encoding\", fontsize=10)\n",
        "    ax[i].set_xticks(np.arange(1,17))\n",
        "    ax[i].tick_params(axis='both', which='major', labelsize=10)\n",
        "    ax[i].tick_params(axis='both', which='minor', labelsize=8)\n",
        "    ax[i].set_ylim(-1.2, 1.2)\n",
        "fig.subplots_adjust(hspace=0.8)\n",
        "sns.reset_orig()\n",
        "plt.show()"
      ]
    },
    {
      "cell_type": "markdown",
      "metadata": {
        "id": "1R-jPe4fPhP8"
      },
      "source": [
        "As we can see, the patterns between the hidden dimension $1$ and $2$ only differ in the starting angle. The wavelength is $2\\pi$, hence the repetition after position $6$. The hidden dimensions $2$ and $3$ have about twice the wavelength."
      ]
    },
    {
      "cell_type": "markdown",
      "metadata": {
        "id": "CNSgY5bwPhP8"
      },
      "source": [
        "### Learning rate warm-up\n",
        "\n",
        "One commonly used technique for training a Transformer is learning rate warm-up. This means that we gradually increase the learning rate from 0 on to our originally specified learning rate in the first few iterations. Thus, we slowly start learning instead of taking very large steps from the beginning. In fact, training a deep Transformer without learning rate warm-up can make the model diverge and achieve a much worse performance on training and testing. Take for instance the following plot by [Liu et al. (2019)](https://arxiv.org/pdf/1908.03265.pdf) comparing Adam-vanilla (i.e. Adam without warm-up) vs Adam with a warm-up:\n",
        "\n",
        "<center width=\"100%\"><img src=\"https://github.com/phlippe/uvadlc_notebooks/blob/master/docs/tutorial_notebooks/tutorial6/warmup_loss_plot.svg?raw=1\" width=\"350px\"></center>\n",
        "\n",
        "Clearly, the warm-up is a crucial hyperparameter in the Transformer architecture. Why is it so important? There are currently two common explanations. Firstly, Adam uses the bias correction factors which however can lead to a higher variance in the adaptive learning rate during the first iterations. Improved optimizers like [RAdam](https://arxiv.org/abs/1908.03265) have been shown to overcome this issue, not requiring warm-up for training Transformers. Secondly, the iteratively applied Layer Normalization across layers can lead to very high gradients during the first iterations, which can be solved by using [Pre-Layer Normalization](https://proceedings.icml.cc/static/paper_files/icml/2020/328-Paper.pdf) (similar to Pre-Activation ResNet), or replacing Layer Normalization by other techniques ([Adaptive Normalization](https://proceedings.icml.cc/static/paper_files/icml/2020/328-Paper.pdf), [Power Normalization](https://arxiv.org/abs/2003.07845)).\n",
        "\n",
        "Nevertheless, many applications and papers still use the original Transformer architecture with Adam, because warm-up is a simple, yet effective way of solving the gradient problem in the first iterations. There are many different schedulers we could use. For instance, the original Transformer paper used an exponential decay scheduler with a warm-up. However, the currently most popular scheduler is the cosine warm-up scheduler, which combines warm-up with a cosine-shaped learning rate decay. In Optax, this learning rate scheduler is also implemented in `optax.warmup_cosine_decay_schedule`, but let's manually implement it below, and visualize the learning rate factor over epochs."
      ]
    },
    {
      "cell_type": "code",
      "execution_count": null,
      "metadata": {
        "id": "dqORTam4PhP8"
      },
      "outputs": [],
      "source": [
        "def cosine_warmup_schedule(base_lr: float, warmup: int, max_iters: int):\n",
        "    assert warmup > 0 and max_iters > 0\n",
        "    # Create function to return lr based on iteration count\n",
        "    def get_lr(train_iter):\n",
        "        lr_factor = 0.5 * (1 + np.cos(np.pi * train_iter / max_iters))\n",
        "        if train_iter <= warmup:\n",
        "            lr_factor *= train_iter * 1.0 / warmup\n",
        "        return lr_factor * base_lr\n",
        "    return get_lr"
      ]
    },
    {
      "cell_type": "code",
      "execution_count": null,
      "metadata": {
        "id": "DK18bRP1PhP8"
      },
      "outputs": [],
      "source": [
        "lr_scheduler = cosine_warmup_schedule(base_lr=1.0, warmup=100, max_iters=2000)\n",
        "\n",
        "# Plotting\n",
        "epochs = list(range(2000))\n",
        "sns.set()\n",
        "plt.figure(figsize=(8,3))\n",
        "plt.plot(epochs, [lr_scheduler(e) for e in epochs])\n",
        "plt.ylabel(\"Learning rate factor\")\n",
        "plt.xlabel(\"Iterations (in batches)\")\n",
        "plt.title(\"Cosine Warm-up Learning Rate Scheduler\")\n",
        "plt.show()\n",
        "sns.reset_orig()"
      ]
    },
    {
      "cell_type": "markdown",
      "metadata": {
        "id": "O0mjgx91PhP9"
      },
      "source": [
        "In the first 100 iterations, we increase the learning rate factor from 0 to 1, whereas for all later iterations, we decay it using the cosine wave."
      ]
    },
    {
      "cell_type": "markdown",
      "metadata": {
        "id": "dNqqoM6EPhP9"
      },
      "source": [
        "### Full Transformer model\n",
        "\n",
        "Finally, we can embed the Transformer architecture into a full architecture. We will implement a template for a classifier based on the Transformer encoder. Thereby, we have a prediction output per sequence element. If we would need a classifier over the whole sequence, the common approach is to add an additional `[CLS]` token to the sequence, representing the classifier token. However, here we focus on tasks where we have one output per element.\n",
        "\n",
        "Additionally to the Transformer architecture, we add a small input network (maps input dimensions to model dimensions), the positional encoding, and an output network (transforms output encodings to predictions). We also add the learning rate scheduler, which takes a step each iteration instead of once per epoch. This is needed for the warmup and the smooth cosine decay. The training, validation, and test step is left empty for now and will be filled for our task-specific models."
      ]
    },
    {
      "cell_type": "code",
      "execution_count": null,
      "metadata": {
        "id": "_W5mHZBAPhP9"
      },
      "outputs": [],
      "source": [
        "class TransformerPredictor(nn.Module):\n",
        "    model_dim : int                   # Hidden dimensionality to use inside the Transformer\n",
        "    num_classes : int                 # Number of classes to predict per sequence element\n",
        "    num_heads : int                   # Number of heads to use in the Multi-Head Attention blocks\n",
        "    num_layers : int                  # Number of encoder blocks to use\n",
        "    dropout_prob : float = 0.0        # Dropout to apply inside the model\n",
        "    input_dropout_prob : float = 0.0  # Dropout to apply on the input features\n",
        "\n",
        "    def setup(self):\n",
        "        # Input dim -> Model dim\n",
        "        self.input_dropout = nn.Dropout(self.input_dropout_prob)\n",
        "        self.input_layer = nn.Dense(self.model_dim)\n",
        "        # Positional encoding for sequences\n",
        "        self.positional_encoding = PositionalEncoding(self.model_dim)\n",
        "        # Transformer\n",
        "        self.transformer = TransformerEncoder(num_layers=self.num_layers,\n",
        "                                              input_dim=self.model_dim,\n",
        "                                              dim_feedforward=2*self.model_dim,\n",
        "                                              num_heads=self.num_heads,\n",
        "                                              dropout_prob=self.dropout_prob)\n",
        "        # Output classifier per sequence lement\n",
        "        self.output_net = [\n",
        "            nn.Dense(self.model_dim),\n",
        "            nn.LayerNorm(),\n",
        "            nn.relu,\n",
        "            nn.Dropout(self.dropout_prob),\n",
        "            nn.Dense(self.num_classes)\n",
        "        ]\n",
        "\n",
        "    def __call__(self, x, mask=None, add_positional_encoding=True, train=True):\n",
        "        \"\"\"\n",
        "        Inputs:\n",
        "            x - Input features of shape [Batch, SeqLen, input_dim]\n",
        "            mask - Mask to apply on the attention outputs (optional)\n",
        "            add_positional_encoding - If True, we add the positional encoding to the input.\n",
        "                                      Might not be desired for some tasks.\n",
        "            train - If True, dropout is stochastic\n",
        "        \"\"\"\n",
        "        x = self.input_dropout(x, deterministic=not train)\n",
        "        x = self.input_layer(x)\n",
        "        if add_positional_encoding:\n",
        "            x = self.positional_encoding(x)\n",
        "        x = self.transformer(x, mask=mask, train=train)\n",
        "        for l in self.output_net:\n",
        "            x = l(x) if not isinstance(l, nn.Dropout) else l(x, deterministic=not train)\n",
        "        return x\n",
        "\n",
        "    def get_attention_maps(self, x, mask=None, add_positional_encoding=True, train=True):\n",
        "        \"\"\"\n",
        "        Function for extracting the attention matrices of the whole Transformer for a single batch.\n",
        "        Input arguments same as the forward pass.\n",
        "        \"\"\"\n",
        "        x = self.input_dropout(x, deterministic=not train)\n",
        "        x = self.input_layer(x)\n",
        "        if add_positional_encoding:\n",
        "            x = self.positional_encoding(x)\n",
        "        attention_maps = self.transformer.get_attention_maps(x, mask=mask, train=train)\n",
        "        return attention_maps"
      ]
    },
    {
      "cell_type": "code",
      "execution_count": null,
      "metadata": {
        "id": "Ta3UWNRePhP9"
      },
      "outputs": [],
      "source": [
        "## Test TransformerPredictor implementation\n",
        "# Example features as input\n",
        "main_rng, x_rng = random.split(main_rng)\n",
        "x = random.normal(x_rng, (3, 16, 64))\n",
        "# Create Transformer encoder\n",
        "transpre = TransformerPredictor(num_layers=5,\n",
        "                                model_dim=128,\n",
        "                                num_classes=10,\n",
        "                                num_heads=4,\n",
        "                                dropout_prob=0.15,\n",
        "                                input_dropout_prob=0.05)\n",
        "# Initialize parameters of transformer predictor with random key and inputs\n",
        "main_rng, init_rng, dropout_init_rng = random.split(main_rng, 3)\n",
        "params = transpre.init({'params': init_rng, 'dropout': dropout_init_rng}, x, train=True)['params']\n",
        "# Apply transformer predictor with parameters on the inputs\n",
        "# Since dropout is stochastic, we need to pass a rng to the forward\n",
        "main_rng, dropout_apply_rng = random.split(main_rng)\n",
        "# Instead of passing params and rngs every time to a function call, we can bind them to the module\n",
        "binded_mod = transpre.bind({'params': params}, rngs={'dropout': dropout_apply_rng})\n",
        "out = binded_mod(x, train=True)\n",
        "print('Out', out.shape)\n",
        "attn_maps = binded_mod.get_attention_maps(x, train=True)\n",
        "print('Attention maps', len(attn_maps), attn_maps[0].shape)\n",
        "\n",
        "del transpre, binded_mod, params"
      ]
    },
    {
      "cell_type": "markdown",
      "metadata": {
        "id": "9XaPQ6ODPhQD"
      },
      "source": [
        "### Trainer module\n",
        "\n",
        "Finally, we add the missing parts needed for training a model in JAX and Flax. Note that we leave the specific loss function unimplemented, since this function depends on different tasks we do below.\n",
        "\n",
        "In the optimization, we use the Adam optimizer with our previously discussed cosine scheduler. Additionally, we use the optax transformation `optax.clip_by_global_norm` ([documentation](https://optax.readthedocs.io/en/latest/api.html#optax.clip_by_global_norm)). This clips the norm of the gradients for all parameters before taking an optimizer step and prevents the model from diverging if we obtain very high gradients at, for instance, sharp loss surfaces (see many good blog posts on gradient clipping, like [DeepAI glossary](https://deepai.org/machine-learning-glossary-and-terms/gradient-clipping)). For Transformers, gradient clipping can help to further stabilize the training during the first few iterations, and also afterward. The clip value is usually between 0.5 and 10, depending on how harsh you want to clip large gradients."
      ]
    },
    {
      "cell_type": "code",
      "execution_count": null,
      "metadata": {
        "id": "bIzXpAxdPhQD"
      },
      "outputs": [],
      "source": [
        "class TrainerModule:\n",
        "\n",
        "    def __init__(self, model_name, exmp_batch, max_iters, lr=1e-3, warmup=100, seed=42, **model_kwargs):\n",
        "        \"\"\"\n",
        "        Inputs:\n",
        "            model_name - Name of the model. Used for saving and checkpointing\n",
        "            exmp_batch - Example batch to the model for initialization\n",
        "            max_iters - Number of maximum iterations the model is trained for. This is needed for the CosineWarmup scheduler\n",
        "            lr - Learning rate in the optimizer\n",
        "            warmup - Number of warmup steps. Usually between 50 and 500\n",
        "            seed - Seed to use for model init\n",
        "        \"\"\"\n",
        "        super().__init__()\n",
        "        self.model_name = model_name\n",
        "        self.max_iters = max_iters\n",
        "        self.lr = lr\n",
        "        self.warmup = warmup\n",
        "        self.seed = seed\n",
        "        # Create empty model. Note: no parameters yet\n",
        "        self.model = TransformerPredictor(**model_kwargs)\n",
        "        # Prepare logging\n",
        "        self.log_dir = os.path.join(CHECKPOINT_PATH, self.model_name)\n",
        "        self.logger = SummaryWriter(log_dir=self.log_dir)\n",
        "        # Create jitted training and eval functions\n",
        "        self.create_functions()\n",
        "        # Initialize model\n",
        "        self.init_model(exmp_batch)\n",
        "\n",
        "    def batch_to_input(self, exmp_batch):\n",
        "        # Map batch to input data to the model\n",
        "        # To be implemented in a task specific sub-class\n",
        "        raise NotImplementedError\n",
        "\n",
        "    def get_loss_function(self):\n",
        "        # Return a function that calculates the loss for a batch\n",
        "        # To be implemented in a task specific sub-class\n",
        "        raise NotImplementedError\n",
        "\n",
        "    def create_functions(self):\n",
        "        # Create jitted train and eval functions\n",
        "        calculate_loss = self.get_loss_function()\n",
        "\n",
        "        # Training function\n",
        "        def train_step(state, rng, batch):\n",
        "            loss_fn = lambda params: calculate_loss(params, rng, batch, train=True)\n",
        "            ret, grads = jax.value_and_grad(loss_fn, has_aux=True)(state.params)\n",
        "            loss, acc, rng = ret[0], *ret[1]\n",
        "            state = state.apply_gradients(grads=grads)\n",
        "            return state, rng, loss, acc\n",
        "        self.train_step = jax.jit(train_step)\n",
        "\n",
        "        # Evaluation function\n",
        "        def eval_step(state, rng, batch):\n",
        "            _, (acc, rng) = calculate_loss(state.params, rng, batch, train=False)\n",
        "            return acc, rng\n",
        "        self.eval_step = jax.jit(eval_step)\n",
        "\n",
        "    def init_model(self, exmp_batch):\n",
        "        # Initialize model\n",
        "        self.rng = jax.random.PRNGKey(self.seed)\n",
        "        self.rng, init_rng, dropout_init_rng = jax.random.split(self.rng, 3)\n",
        "        exmp_input = self.batch_to_input(exmp_batch)\n",
        "        params = self.model.init({'params': init_rng, 'dropout': dropout_init_rng}, exmp_input, train=True)['params']\n",
        "        # Initialize learning rate schedule and optimizer\n",
        "        lr_schedule = optax.warmup_cosine_decay_schedule(\n",
        "            init_value=0.0,\n",
        "            peak_value=self.lr,\n",
        "            warmup_steps=self.warmup,\n",
        "            decay_steps=self.max_iters,\n",
        "            end_value=0.0\n",
        "        )\n",
        "        optimizer = optax.chain(\n",
        "            optax.clip_by_global_norm(1.0),  # Clip gradients at norm 1\n",
        "            optax.adam(lr_schedule)\n",
        "        )\n",
        "        # Initialize training state\n",
        "        self.state = train_state.TrainState.create(apply_fn=self.model.apply, params=params, tx=optimizer)\n",
        "\n",
        "    def train_model(self, train_loader, val_loader, num_epochs=500):\n",
        "        # Train model for defined number of epochs\n",
        "        best_acc = 0.0\n",
        "        for epoch_idx in tqdm(range(1, num_epochs+1)):\n",
        "            self.train_epoch(train_loader, epoch=epoch_idx)\n",
        "            if epoch_idx % 5 == 0:\n",
        "                eval_acc = self.eval_model(val_loader)\n",
        "                self.logger.add_scalar('val/accuracy', eval_acc, global_step=epoch_idx)\n",
        "                if eval_acc >= best_acc:\n",
        "                    best_acc = eval_acc\n",
        "                    self.save_model(step=epoch_idx)\n",
        "                self.logger.flush()\n",
        "\n",
        "    def train_epoch(self, train_loader, epoch):\n",
        "        # Train model for one epoch, and log avg loss and accuracy\n",
        "        accs, losses = [], []\n",
        "        for batch in tqdm(train_loader, desc='Training', leave=False):\n",
        "            self.state, self.rng, loss, accuracy = self.train_step(self.state, self.rng, batch)\n",
        "            losses.append(loss)\n",
        "            accs.append(accuracy)\n",
        "        avg_loss = np.stack(jax.device_get(losses)).mean()\n",
        "        avg_acc = np.stack(jax.device_get(accs)).mean()\n",
        "        self.logger.add_scalar('train/loss', avg_loss, global_step=epoch)\n",
        "        self.logger.add_scalar('train/accuracy', avg_acc, global_step=epoch)\n",
        "\n",
        "    def eval_model(self, data_loader):\n",
        "        # Test model on all data points of a data loader and return avg accuracy\n",
        "        correct_class, count = 0, 0\n",
        "        for batch in data_loader:\n",
        "            acc, self.rng = self.eval_step(self.state, self.rng, batch)\n",
        "            correct_class += acc * batch[0].shape[0]\n",
        "            count += batch[0].shape[0]\n",
        "        eval_acc = (correct_class / count).item()\n",
        "        return eval_acc\n",
        "\n",
        "    def save_model(self, step=0):\n",
        "        # Save current model at certain training iteration\n",
        "        checkpoints.save_checkpoint(ckpt_dir=self.log_dir, target=self.state.params, step=step)\n",
        "\n",
        "    def load_model(self, pretrained=False):\n",
        "        # Load model. We use different checkpoint for the pretrained model\n",
        "        if not pretrained:\n",
        "            params = checkpoints.restore_checkpoint(ckpt_dir=self.log_dir, target=self.state.params)\n",
        "        else:\n",
        "            params = checkpoints.restore_checkpoint(ckpt_dir=os.path.join(CHECKPOINT_PATH, f'{self.model_name}.ckpt'), target=self.state.params)\n",
        "        self.state = train_state.TrainState.create(apply_fn=self.model.apply, params=params, tx=self.state.tx)\n",
        "\n",
        "    def checkpoint_exists(self):\n",
        "        # Check whether a pretrained model exist for this Transformer\n",
        "        return os.path.isfile(os.path.join(CHECKPOINT_PATH, f'{self.model_name}.ckpt'))"
      ]
    },
    {
      "cell_type": "markdown",
      "metadata": {
        "id": "od2fPOq8PhQD"
      },
      "source": [
        "## Experiments\n",
        "\n",
        "After having finished the implementation of the Transformer architecture, we can start experimenting and apply it to various tasks. In this notebook, we will focus on two tasks: parallel Sequence-to-Sequence, and set anomaly detection. The two tasks focus on different properties of the Transformer architecture, and we go through them below.\n",
        "\n",
        "### Sequence to Sequence\n",
        "\n",
        "A Sequence-to-Sequence task represents a task where the input _and_ the output is a sequence, not necessarily of the same length. Popular tasks in this domain include machine translation and summarization. For this, we usually have a Transformer encoder for interpreting the input sequence, and a decoder for generating the output in an autoregressive manner. Here, however, we will go back to a much simpler example task and use only the encoder. Given a sequence of $N$ numbers between $0$ and $M$, the task is to reverse the input sequence. In Numpy notation, if our input is $x$, the output should be $x$[::-1]. Although this task sounds very simple, RNNs can have issues with such because the task requires long-term dependencies. Transformers are built to support such, and hence, we expect it to perform very well.\n",
        "\n",
        "First, let's create a dataset class below."
      ]
    },
    {
      "cell_type": "code",
      "execution_count": null,
      "metadata": {
        "id": "j2cXGKjdPhQD"
      },
      "outputs": [],
      "source": [
        "class ReverseDataset(data.Dataset):\n",
        "\n",
        "    def __init__(self, num_categories, seq_len, size, np_rng):\n",
        "        super().__init__()\n",
        "        self.num_categories = num_categories\n",
        "        self.seq_len = seq_len\n",
        "        self.size = size\n",
        "        self.np_rng = np_rng\n",
        "\n",
        "        self.data = self.np_rng.integers(self.num_categories, size=(self.size, self.seq_len))\n",
        "\n",
        "    def __len__(self):\n",
        "        return self.size\n",
        "\n",
        "    def __getitem__(self, idx):\n",
        "        inp_data = self.data[idx]\n",
        "        labels = np.flip(inp_data, axis=0)\n",
        "        return inp_data, labels"
      ]
    },
    {
      "cell_type": "markdown",
      "metadata": {
        "id": "vP5Fd73fPhQD"
      },
      "source": [
        "We create an arbitrary number of random sequences of numbers between 0 and `num_categories-1`. The label is simply the tensor flipped over the sequence dimension. We can create the corresponding data loaders using PyTorch below."
      ]
    },
    {
      "cell_type": "code",
      "execution_count": null,
      "metadata": {
        "id": "KJZIUOg_PhQD"
      },
      "outputs": [],
      "source": [
        "# Combine batch elements (all numpy) by stacking\n",
        "def numpy_collate(batch):\n",
        "    if isinstance(batch[0], np.ndarray):\n",
        "        return np.stack(batch)\n",
        "    elif isinstance(batch[0], (tuple,list)):\n",
        "        transposed = zip(*batch)\n",
        "        return [numpy_collate(samples) for samples in transposed]\n",
        "    else:\n",
        "        return np.array(batch)\n",
        "\n",
        "dataset = partial(ReverseDataset, 10, 16)\n",
        "rev_train_loader = data.DataLoader(dataset(50000, np_rng=np.random.default_rng(42)),\n",
        "                                   batch_size=128,\n",
        "                                   shuffle=True,\n",
        "                                   drop_last=True,\n",
        "                                   collate_fn=numpy_collate)\n",
        "rev_val_loader   = data.DataLoader(dataset(1000, np_rng=np.random.default_rng(43)),\n",
        "                                   batch_size=128,\n",
        "                                   collate_fn=numpy_collate)\n",
        "rev_test_loader  = data.DataLoader(dataset(10000, np_rng=np.random.default_rng(44)),\n",
        "                                   batch_size=128,\n",
        "                                   collate_fn=numpy_collate)"
      ]
    },
    {
      "cell_type": "markdown",
      "metadata": {
        "id": "2Feum2mkPhQD"
      },
      "source": [
        "Remember that these data loaders return numpy arrays instead of PyTorch tensors, as we define in the `numpy_collate` function which combines individual elements to a batch. As the data set is so simple and the `__getitem__` finishes a neglectable time, we don't need subprocesses, i.e. workers, to provide us the data (in fact, more workers can slow down the training as we have communication overhead among processes/threads).\n",
        "\n",
        "Now, let's look at an arbitrary sample of the dataset:"
      ]
    },
    {
      "cell_type": "code",
      "execution_count": null,
      "metadata": {
        "id": "2i1ZjJ7IPhQD"
      },
      "outputs": [],
      "source": [
        "inp_data, labels = rev_train_loader.dataset[0]\n",
        "print(\"Input data:\", inp_data)\n",
        "print(\"Labels:    \", labels)"
      ]
    },
    {
      "cell_type": "markdown",
      "metadata": {
        "id": "quGR0scKPhQE"
      },
      "source": [
        "During training, we pass the input sequence through the Transformer encoder and predict the output for each input token. We use the standard Cross-Entropy loss to perform this. Every number is represented as a one-hot vector. Remember that representing the categories as single scalars decreases the expressiveness of the model extremely as $0$ and $1$ are not closer related than $0$ and $9$ in our example. An alternative to a one-hot vector is using a learned embedding vector as it is provided by an `nn.Embed` module ([documentation](https://flax.readthedocs.io/en/latest/_autosummary/flax.linen.Embed.html)). However, using a one-hot vector with an additional linear layer as in our case has the same effect as an embedding layer (`self.input_net` maps one-hot vector to a dense vector, where each row of the weight matrix represents the embedding for a specific category).\n",
        "\n",
        "To implement the training dynamic, we create a new class inheriting from `TrainerModule` and defining the loss function as follows:"
      ]
    },
    {
      "cell_type": "code",
      "execution_count": null,
      "metadata": {
        "id": "WDWxnN5lPhQE"
      },
      "outputs": [],
      "source": [
        "class ReverseTrainer(TrainerModule):\n",
        "\n",
        "    def batch_to_input(self, batch):\n",
        "        inp_data, _ = batch\n",
        "        inp_data = jax.nn.one_hot(inp_data, num_classes=self.model.num_classes)\n",
        "        return inp_data\n",
        "\n",
        "    def get_loss_function(self):\n",
        "        # Function for calculating loss and accuracy for a batch\n",
        "        def calculate_loss(params, rng, batch, train):\n",
        "            inp_data, labels = batch\n",
        "            inp_data = jax.nn.one_hot(inp_data, num_classes=self.model.num_classes)\n",
        "            rng, dropout_apply_rng = random.split(rng)\n",
        "            logits = self.model.apply({'params': params}, inp_data, train=train, rngs={'dropout': dropout_apply_rng})\n",
        "            loss = optax.softmax_cross_entropy_with_integer_labels(logits, labels).mean()\n",
        "            acc = (logits.argmax(axis=-1) == labels).mean()\n",
        "            return loss, (acc, rng)\n",
        "        return calculate_loss"
      ]
    },
    {
      "cell_type": "markdown",
      "metadata": {
        "id": "IfeA3S-fPhQE"
      },
      "source": [
        "Finally, we can create a training function, similar to ones we have seen before. We create a `ReverseTrainer` object, run the training for $N$ epochs while logging in TensorBoard, and saving our best model based on the validation. Afterward, we test our models on the test set."
      ]
    },
    {
      "cell_type": "code",
      "execution_count": null,
      "metadata": {
        "id": "TIe_d9_vPhQE"
      },
      "outputs": [],
      "source": [
        "def train_reverse(max_epochs=10, **model_args):\n",
        "    num_train_iters = len(rev_train_loader) * max_epochs\n",
        "    # Create a trainer module with specified hyperparameters\n",
        "    trainer = ReverseTrainer(model_name='ReverseTask',\n",
        "                             exmp_batch=next(iter(rev_train_loader)),\n",
        "                             max_iters=num_train_iters,\n",
        "                             **model_args)\n",
        "    if not trainer.checkpoint_exists():  # Skip training if pretrained model exists\n",
        "        trainer.train_model(rev_train_loader, rev_val_loader, num_epochs=max_epochs)\n",
        "        trainer.load_model()\n",
        "    else:\n",
        "        trainer.load_model(pretrained=True)\n",
        "    val_acc = trainer.eval_model(rev_val_loader)\n",
        "    test_acc = trainer.eval_model(rev_test_loader)\n",
        "    # Bind parameters to model for easier inference\n",
        "    trainer.model_bd = trainer.model.bind({'params': trainer.state.params})\n",
        "    return trainer, {'val_acc': val_acc, 'test_acc': test_acc}"
      ]
    },
    {
      "cell_type": "markdown",
      "metadata": {
        "id": "1YNfcb3ePhQE"
      },
      "source": [
        "Finally, we can train the model. In this setup, we will use a single encoder block and a single head in the Multi-Head Attention. This is chosen because of the simplicity of the task, and in this case, the attention can actually be interpreted as an \"explanation\" of the predictions (compared to the other papers above dealing with deep Transformers)."
      ]
    },
    {
      "cell_type": "code",
      "execution_count": null,
      "metadata": {
        "scrolled": false,
        "id": "FATOCL-ePhQE"
      },
      "outputs": [],
      "source": [
        "reverse_trainer, reverse_result = train_reverse(model_dim=32,\n",
        "                                                num_heads=1,\n",
        "                                                num_classes=rev_train_loader.dataset.num_categories,\n",
        "                                                num_layers=1,\n",
        "                                                dropout_prob=0.0,\n",
        "                                                lr=5e-4,\n",
        "                                                warmup=50)"
      ]
    },
    {
      "cell_type": "markdown",
      "metadata": {
        "id": "2W3vsgGSPhQE"
      },
      "source": [
        "First, let's print the results:"
      ]
    },
    {
      "cell_type": "code",
      "execution_count": null,
      "metadata": {
        "id": "300bBPBpPhQE"
      },
      "outputs": [],
      "source": [
        "print(f\"Val accuracy:  {(100.0 * reverse_result['val_acc']):4.2f}%\")\n",
        "print(f\"Test accuracy: {(100.0 * reverse_result['test_acc']):4.2f}%\")"
      ]
    },
    {
      "cell_type": "markdown",
      "metadata": {
        "id": "SYQs7M_-PhQE"
      },
      "source": [
        "As we would have expected, the Transformer can correctly solve the task. However, how does the attention in the Multi-Head Attention block looks like for an arbitrary input? Let's try to visualize it below."
      ]
    },
    {
      "cell_type": "code",
      "execution_count": null,
      "metadata": {
        "id": "bL414pe3PhQE"
      },
      "outputs": [],
      "source": [
        "data_input, labels = next(iter(rev_val_loader))\n",
        "inp_data = jax.nn.one_hot(data_input, num_classes=reverse_trainer.model.num_classes)\n",
        "attention_maps = reverse_trainer.model_bd.get_attention_maps(inp_data)"
      ]
    },
    {
      "cell_type": "markdown",
      "metadata": {
        "id": "bo-5hF2OPhQE"
      },
      "source": [
        "The object `attention_maps` is a list of length $N$ where $N$ is the number of layers. Each element is a tensor of shape [Batch, Heads, SeqLen, SeqLen], which we can verify below."
      ]
    },
    {
      "cell_type": "code",
      "execution_count": null,
      "metadata": {
        "id": "B3DWjb3oPhQE"
      },
      "outputs": [],
      "source": [
        "attention_maps[0].shape"
      ]
    },
    {
      "cell_type": "markdown",
      "metadata": {
        "id": "HQOJnoLlPhQF"
      },
      "source": [
        "Next, we will write a plotting function that takes as input the sequences, attention maps, and an index indicating for which batch element we want to visualize the attention map. We will create a plot where over rows, we have different layers, while over columns, we show the different heads. Remember that the softmax has been applied for each row separately."
      ]
    },
    {
      "cell_type": "code",
      "execution_count": null,
      "metadata": {
        "id": "fztDFSLEPhQF"
      },
      "outputs": [],
      "source": [
        "def plot_attention_maps(input_data, attn_maps, idx=0):\n",
        "    if input_data is not None:\n",
        "        input_data = jax.device_get(input_data[idx])\n",
        "    else:\n",
        "        input_data = np.arange(attn_maps[0][idx].shape[-1])\n",
        "    attn_maps = [jax.device_get(m[idx]) for m in attn_maps]\n",
        "\n",
        "    num_heads = attn_maps[0].shape[0]\n",
        "    num_layers = len(attn_maps)\n",
        "    seq_len = input_data.shape[0]\n",
        "    fig_size = 4 if num_heads == 1 else 3\n",
        "    fig, ax = plt.subplots(num_layers, num_heads, figsize=(num_heads*fig_size, num_layers*fig_size))\n",
        "    if num_layers == 1:\n",
        "        ax = [ax]\n",
        "    if num_heads == 1:\n",
        "        ax = [[a] for a in ax]\n",
        "    for row in range(num_layers):\n",
        "        for column in range(num_heads):\n",
        "            ax[row][column].imshow(attn_maps[row][column], origin='lower', vmin=0)\n",
        "            ax[row][column].set_xticks(list(range(seq_len)))\n",
        "            ax[row][column].set_xticklabels(input_data.tolist())\n",
        "            ax[row][column].set_yticks(list(range(seq_len)))\n",
        "            ax[row][column].set_yticklabels(input_data.tolist())\n",
        "            ax[row][column].set_title(f\"Layer {row+1}, Head {column+1}\")\n",
        "    fig.subplots_adjust(hspace=0.5)\n",
        "    plt.show()"
      ]
    },
    {
      "cell_type": "markdown",
      "metadata": {
        "id": "F61J_cvEPhQF"
      },
      "source": [
        "Finally, we can plot the attention map of our trained Transformer on the reverse task:"
      ]
    },
    {
      "cell_type": "code",
      "execution_count": null,
      "metadata": {
        "id": "kNpM3LLVPhQF"
      },
      "outputs": [],
      "source": [
        "plot_attention_maps(data_input, attention_maps, idx=0)"
      ]
    },
    {
      "cell_type": "markdown",
      "metadata": {
        "id": "skXlRCVvPhQF"
      },
      "source": [
        "The model has learned to attend to the token that is on the flipped index of itself. Hence, it actually does what we intended it to do. We see that it however also pays some attention to values close to the flipped index. This is because the model doesn't need the perfect, hard attention to solve this problem, but is fine with this approximate, noisy attention map. The close-by indices are caused by the similarity of the positional encoding, which we also intended with the positional encoding."
      ]
    },
    {
      "cell_type": "markdown",
      "metadata": {
        "id": "BraeBCKEPhQF"
      },
      "source": [
        "### Set Anomaly Detection\n",
        "\n",
        "Besides sequences, sets are another data structure that is relevant for many applications. In contrast to sequences, elements are unordered in a set. RNNs can only be applied on sets by assuming an order in the data, which however biases the model towards a non-existing order in the data. [Vinyals et al. (2015)](https://arxiv.org/abs/1511.06391) and other papers have shown that the assumed order can have a significant impact on the model's performance, and hence, we should try to not use RNNs on sets. Ideally, our model should be permutation-equivariant/invariant such that the output is the same no matter how we sort the elements in a set.\n",
        "\n",
        "Transformers offer the perfect architecture for this as the Multi-Head Attention is permutation-equivariant, and thus, outputs the same values no matter in what order we enter the inputs (inputs and outputs are permuted equally). The task we are looking at for sets is _Set Anomaly Detection_ which means that we try to find the element(s) in a set that does not fit the others. In the research community, the common application of anomaly detection is performed on a set of images, where $N-1$ images belong to the same category/have the same high-level features while one belongs to another category. Note that category does not necessarily have to relate to a class in a standard classification problem, but could be the combination of multiple features. For instance, on a face dataset, this could be people with glasses, male, beard, etc. An example of distinguishing different animals can be seen below. The first four images show foxes, while the last represents a different animal. We want to recognize that the last image shows a different animal, but it is not relevant which class of animal it is.\n",
        "\n",
        "<center width=\"100%\" style=\"padding:20px\"><img src=\"https://github.com/phlippe/uvadlc_notebooks/blob/master/docs/tutorial_notebooks/tutorial6/cifar100_example_anomaly.png?raw=1\" width=\"600px\"></center>\n",
        "\n",
        "In this tutorial, we will use the CIFAR100 dataset. CIFAR100 has 600 images for 100 classes each with a resolution of 32x32, similar to CIFAR10. The larger amount of classes requires the model to attend to specific features in the images instead of coarse features as in CIFAR10, therefore making the task harder. We will show the model a set of 9 images of one class, and 1 image from another class. The task is to find the image that is from a different class than the other images.\n",
        "Using the raw images directly as input to the Transformer is not a good idea, because it is not translation invariant as a CNN, and would need to learn to detect image features from high-dimensional input first of all. Instead, we will use a pre-trained ResNet34 model from the package `flaxmodels` ([link](https://github.com/matthias-wright/flaxmodels)) to obtain high-level, low-dimensional features of the images. The ResNet model has been pre-trained on the [ImageNet](http://image-net.org/) dataset which contains 1 million images of 1k classes and varying resolutions. However, during training and testing, the images are usually scaled to a resolution of 224x224, and hence we rescale our CIFAR images to this resolution as well. Below, we will load the dataset, and prepare the data for being processed by the ResNet model."
      ]
    },
    {
      "cell_type": "code",
      "execution_count": null,
      "metadata": {
        "id": "MeAUmCOQPhQF"
      },
      "outputs": [],
      "source": [
        "def image_to_numpy(img):\n",
        "    img = np.array(img, dtype=np.float32)\n",
        "    img = img / 255.   # Normalization is done in the ResNet\n",
        "    return img\n",
        "\n",
        "# Resize to 224x224, and map to JAX\n",
        "transform = transforms.Compose([transforms.Resize((224,224)),\n",
        "                                image_to_numpy\n",
        "                               ])\n",
        "# Loading the training dataset.\n",
        "train_set = CIFAR100(root=DATASET_PATH, train=True, transform=transform, download=True)\n",
        "\n",
        "# Loading the test set\n",
        "test_set = CIFAR100(root=DATASET_PATH, train=False, transform=transform, download=True)\n",
        "\n",
        "# For later, keep a dictionary mapping class indices to class names\n",
        "class_idx_to_name = {val: key for key, val in train_set.class_to_idx.items()}"
      ]
    },
    {
      "cell_type": "markdown",
      "metadata": {
        "id": "-2_mAsPQPhQF"
      },
      "source": [
        "Next, we want to run the pre-trained ResNet model on the images, and extract the features before the classification layer. These are the most high-level features, and should sufficiently describe the images. CIFAR100 has some similarity to ImageNet, and thus we are not retraining the ResNet model in any form. However, if you would want to get the best performance and have a very large dataset, it would be better to add the ResNet to the computation graph during training and finetune its parameters as well. As we don't have a large enough dataset and want to train our model efficiently, we will extract the features beforehand. Let's load and prepare the model below."
      ]
    },
    {
      "cell_type": "code",
      "execution_count": null,
      "metadata": {
        "id": "2l6pYeFYPhQF"
      },
      "outputs": [],
      "source": [
        "# Import and install flaxmodels if needed\n",
        "try:\n",
        "    import flaxmodels\n",
        "except ModuleNotFoundError:\n",
        "    !pip install --upgrade git+https://github.com/matthias-wright/flaxmodels.git\n",
        "    import flaxmodels\n",
        "\n",
        "# Pretrained ResNet34 on ImageNet\n",
        "resnet34 = flaxmodels.ResNet34(output='activations', pretrained='imagenet', normalize=True)\n",
        "main_rng, resnet_rng = random.split(main_rng, 2)\n",
        "resnet_params = resnet34.init(resnet_rng, jnp.zeros((1, 224, 224, 3)))\n",
        "# Jit its forward pass for efficiency\n",
        "apply_resnet = jax.jit(lambda imgs: resnet34.apply(resnet_params, imgs, train=False))"
      ]
    },
    {
      "cell_type": "markdown",
      "metadata": {
        "id": "gDhFcVM_PhQF"
      },
      "source": [
        "We will now write a extraction function for the features below. This cell requires access to a GPU, as the model is rather deep and the images relatively large. The GPUs on GoogleColab are sufficient, but running this cell can take 2-3 minutes. Once it is run, the features are exported on disk so they don't have to be recalculated every time you run the notebook. However, this requires >150MB free disk space. So it is recommended to run this only on a local computer if you have enough free disk and a GPU (GoogleColab is fine for this). If you do not have a GPU, you can download the features from the [GoogleDrive folder](https://drive.google.com/drive/folders/1t8D-GTfmxJ42xLNTeMGMKSYuWBua5lXI?usp=sharing)."
      ]
    },
    {
      "cell_type": "code",
      "execution_count": null,
      "metadata": {
        "id": "__VQmw78PhQF"
      },
      "outputs": [],
      "source": [
        "def extract_features(dataset, save_file):\n",
        "    if not os.path.isfile(save_file):\n",
        "        data_loader = data.DataLoader(dataset, batch_size=128, shuffle=False, drop_last=False,\n",
        "                                      collate_fn=lambda batch: np.stack([b[0] for b in batch], axis=0))\n",
        "        extracted_features = []\n",
        "        for imgs in tqdm(data_loader):\n",
        "            feats = apply_resnet(imgs)\n",
        "            # Average pooling on the last conv features to obtain a image-level feature vector\n",
        "            feats = feats['block4_2'].mean(axis=(1,2))\n",
        "            extracted_features.append(feats)\n",
        "        extracted_features = jnp.concatenate(extracted_features, axis=0)\n",
        "        extracted_features = jax.device_get(extracted_features)\n",
        "        np.savez_compressed(save_file, feats=extracted_features)\n",
        "    else:\n",
        "        extracted_features = np.load(save_file)['feats']\n",
        "    return extracted_features\n",
        "\n",
        "train_feat_file = os.path.join(CHECKPOINT_PATH, \"train_set_features.npz\")\n",
        "train_set_feats = extract_features(train_set, train_feat_file)\n",
        "\n",
        "test_feat_file = os.path.join(CHECKPOINT_PATH, \"test_set_features.npz\")\n",
        "test_feats = extract_features(test_set, test_feat_file)"
      ]
    },
    {
      "cell_type": "markdown",
      "metadata": {
        "id": "zlMm2gvePhQF"
      },
      "source": [
        "Let's verify the feature shapes below. The training should have 50k elements, and the test 10k images. The feature dimension is 512 for the ResNet34. If you experiment with other models, you likely see a different feature dimension."
      ]
    },
    {
      "cell_type": "code",
      "execution_count": null,
      "metadata": {
        "id": "RciKncdyPhQG"
      },
      "outputs": [],
      "source": [
        "print(\"Train:\", train_set_feats.shape)\n",
        "print(\"Test: \", test_feats.shape)"
      ]
    },
    {
      "cell_type": "markdown",
      "metadata": {
        "id": "pe81_RRSPhQG"
      },
      "source": [
        "As usual, we want to create a validation set to detect when we should stop training. In this case, we will split the training set into 90% training, 10% validation. However, the difficulty is here that we need to ensure that the validation set has the same number of images for all 100 labels. Otherwise, we have a class imbalance which is not good for creating the image sets. Hence, we take 10% of the images for each class, and move them into the validation set. The code below does exactly this."
      ]
    },
    {
      "cell_type": "code",
      "execution_count": null,
      "metadata": {
        "id": "LLxB8x-QPhQG"
      },
      "outputs": [],
      "source": [
        "## Split train into train+val\n",
        "# Get labels from train set\n",
        "labels = np.array(train_set.targets, dtype=np.int32)\n",
        "\n",
        "# Get indices of images per class\n",
        "num_labels = labels.max()+1\n",
        "sorted_indices = np.argsort(labels).reshape(num_labels, -1) # [classes, num_imgs per class]\n",
        "\n",
        "# Determine number of validation images per class\n",
        "num_val_exmps = sorted_indices.shape[1] // 10\n",
        "\n",
        "# Get image indices for validation and training\n",
        "val_indices   = sorted_indices[:,:num_val_exmps].reshape(-1)\n",
        "train_indices = sorted_indices[:,num_val_exmps:].reshape(-1)\n",
        "\n",
        "# Group corresponding image features and labels\n",
        "train_feats, train_labels = train_set_feats[train_indices], labels[train_indices]\n",
        "val_feats,   val_labels   = train_set_feats[val_indices],   labels[val_indices]"
      ]
    },
    {
      "cell_type": "markdown",
      "metadata": {
        "id": "YzaUNbh4PhQG"
      },
      "source": [
        "Now we can prepare a dataset class for the set anomaly task. We define an epoch to be the sequence in which each image has been exactly once as an \"anomaly\". Hence, the length of the dataset is the number of images in it. For the training set, each time we access an item with `__getitem__`, we sample a random, different class than the image at the corresponding index `idx` has. In a second step, we sample $N-1$ images of this sampled class. The set of 10 images is finally returned. The randomness in the `__getitem__` allows us to see a slightly different set during each iteration. However, we can't use the same strategy for the test set as we want the test dataset to be the same every time we iterate over it. Hence, we sample the sets in the `__init__` method, and return those in `__getitem__`. The code below implements exactly this dynamic."
      ]
    },
    {
      "cell_type": "code",
      "execution_count": null,
      "metadata": {
        "id": "ERL1gTuWPhQG"
      },
      "outputs": [],
      "source": [
        "class SetAnomalyDataset(data.Dataset):\n",
        "\n",
        "    def __init__(self, img_feats, labels, np_rng, set_size=10, train=True):\n",
        "        \"\"\"\n",
        "        Inputs:\n",
        "            img_feats - Tensor of shape [num_imgs, img_dim]. Represents the high-level features.\n",
        "            labels - Tensor of shape [num_imgs], containing the class labels for the images\n",
        "            set_size - Number of elements in a set. N-1 are sampled from one class, and one from another one.\n",
        "            train - If True, a new set will be sampled every time __getitem__ is called.\n",
        "        \"\"\"\n",
        "        super().__init__()\n",
        "        self.img_feats = img_feats\n",
        "        self.labels = labels\n",
        "        self.np_rng = np_rng\n",
        "        self.set_size = set_size-1  # The set size is here the number of images from the same class per set\n",
        "        self.train = train\n",
        "\n",
        "        # Tensors with indices of the images per class\n",
        "        self.num_labels = labels.max()+1\n",
        "        self.img_idx_by_label = np.argsort(self.labels).reshape(self.num_labels, -1)\n",
        "\n",
        "        if not train:\n",
        "            self.test_sets = self._create_test_sets()\n",
        "\n",
        "    def _create_test_sets(self):\n",
        "        # Pre-generates the sets for each image for the test set\n",
        "        test_sets = []\n",
        "        num_imgs = self.img_feats.shape[0]\n",
        "        test_sets = [self.sample_img_set(self.labels[idx]) for idx in range(num_imgs)]\n",
        "        test_sets = np.stack(test_sets, axis=0)\n",
        "        return test_sets\n",
        "\n",
        "    def sample_img_set(self, anomaly_label):\n",
        "        \"\"\"\n",
        "        Samples a new set of images, given the label of the anomaly.\n",
        "        The sampled images come from a different class than anomaly_label\n",
        "        \"\"\"\n",
        "        # Sample class from 0,...,num_classes-1 while skipping anomaly_label as class\n",
        "        set_label = self.np_rng.integers(self.num_labels-1)\n",
        "        if set_label >= anomaly_label:\n",
        "            set_label += 1\n",
        "\n",
        "        # Sample images from the class determined above\n",
        "        img_indices = self.np_rng.choice(self.img_idx_by_label.shape[1], size=self.set_size, replace=False)\n",
        "        img_indices = self.img_idx_by_label[set_label, img_indices]\n",
        "        return img_indices\n",
        "\n",
        "    def __len__(self):\n",
        "        return self.img_feats.shape[0]\n",
        "\n",
        "    def __getitem__(self, idx):\n",
        "        anomaly = self.img_feats[idx]\n",
        "        if self.train: # If train => sample\n",
        "            img_indices = self.sample_img_set(self.labels[idx])\n",
        "        else: # If test => use pre-generated ones\n",
        "            img_indices = self.test_sets[idx]\n",
        "\n",
        "        # Concatenate images. The anomaly is always the last image for simplicity\n",
        "        img_set = np.concatenate([self.img_feats[img_indices], anomaly[None]], axis=0)\n",
        "        indices = np.concatenate([img_indices, np.array([idx], dtype=np.int32)], axis=0)\n",
        "        label = img_set.shape[0]-1\n",
        "\n",
        "        # We return the indices of the images for visualization purpose. \"Label\" is the index of the anomaly\n",
        "        return img_set, indices, label"
      ]
    },
    {
      "cell_type": "markdown",
      "metadata": {
        "id": "tRrvQVNxPhQG"
      },
      "source": [
        "Next, we can setup our datasets and data loaders below. Here, we will use a set size of 10, i.e. 9 images from one category + 1 anomaly. Feel free to change it if you want to experiment with the sizes."
      ]
    },
    {
      "cell_type": "code",
      "execution_count": null,
      "metadata": {
        "id": "txg7KqnVPhQG"
      },
      "outputs": [],
      "source": [
        "SET_SIZE = 10\n",
        "test_labels = np.array(test_set.targets, dtype=np.int32)\n",
        "\n",
        "anom_train_dataset = SetAnomalyDataset(train_feats, train_labels, np_rng=np.random.default_rng(42), set_size=SET_SIZE, train=True)\n",
        "anom_val_dataset   = SetAnomalyDataset(val_feats,   val_labels,   np_rng=np.random.default_rng(43), set_size=SET_SIZE, train=False)\n",
        "anom_test_dataset  = SetAnomalyDataset(test_feats,  test_labels,  np_rng=np.random.default_rng(123), set_size=SET_SIZE, train=False)\n",
        "\n",
        "anom_train_loader = data.DataLoader(anom_train_dataset, batch_size=64, shuffle=True,  drop_last=True,  collate_fn=numpy_collate)\n",
        "anom_val_loader   = data.DataLoader(anom_val_dataset,   batch_size=64, shuffle=False, drop_last=False, collate_fn=numpy_collate)\n",
        "anom_test_loader  = data.DataLoader(anom_test_dataset,  batch_size=64, shuffle=False, drop_last=False, collate_fn=numpy_collate)"
      ]
    },
    {
      "cell_type": "markdown",
      "metadata": {
        "id": "0IvaJU9mPhQG"
      },
      "source": [
        "To understand the dataset a little better, we can plot below a few sets from the test dataset. Each row shows a different input set, where the first 9 are from the same class."
      ]
    },
    {
      "cell_type": "code",
      "execution_count": null,
      "metadata": {
        "id": "iohljr2ZPhQG"
      },
      "outputs": [],
      "source": [
        "def visualize_exmp(indices, orig_dataset):\n",
        "    images = [orig_dataset[idx][0] for idx in indices.reshape(-1)]\n",
        "    images = jax.device_get(jnp.stack(images, axis=0)).astype(np.float32)\n",
        "    images = torch.from_numpy(images)\n",
        "    images = images.permute(0, 3, 1, 2)\n",
        "    img_grid = torchvision.utils.make_grid(images, nrow=SET_SIZE, normalize=True, pad_value=0.5, padding=16)\n",
        "    img_grid = img_grid.permute(1, 2, 0)\n",
        "\n",
        "    plt.figure(figsize=(12,8))\n",
        "    plt.title(\"Anomaly examples on CIFAR100\")\n",
        "    plt.imshow(img_grid)\n",
        "    plt.axis('off')\n",
        "    plt.show()\n",
        "    plt.close()\n",
        "\n",
        "_, indices, _ = next(iter(anom_test_loader))\n",
        "visualize_exmp(indices[:4], test_set)"
      ]
    },
    {
      "cell_type": "markdown",
      "metadata": {
        "id": "JALapWa7PhQG"
      },
      "source": [
        "We can already see that for some sets the task might be easier than for others. Difficulties can especially arise if the anomaly is in a different, but yet visually similar class (e.g. insect vs mushroom, train vs bus, etc.).\n",
        "\n",
        "After having prepared the data, we can look closer at the model. Here, we have a classification of the whole set. For the prediction to be permutation-equivariant, we will output one logit for each image. Over these logits, we apply a softmax and train the anomaly image to have the highest score/probability. This is a bit different than a standard classification layer as the softmax is applied over images, not over output classes in the classical sense. However, if we swap two images in their position, we effectively swap their position in the output softmax. Hence, the prediction is equivariant with respect to the input. Furthermore, we need to remove the positional encoding since these features would break the permutation equivariance. We implement this setup below in the subclass of the Trainer module."
      ]
    },
    {
      "cell_type": "code",
      "execution_count": null,
      "metadata": {
        "id": "YbtX0ZadPhQG"
      },
      "outputs": [],
      "source": [
        "class AnomalyTrainer(TrainerModule):\n",
        "\n",
        "    def batch_to_input(self, batch):\n",
        "        inp_data, _, _ = batch\n",
        "        return inp_data\n",
        "\n",
        "    def get_loss_function(self):\n",
        "        # Function for calculating loss and accuracy for a batch\n",
        "        def calculate_loss(params, rng, batch, train):\n",
        "            inp_data, _, labels = batch\n",
        "            rng, dropout_apply_rng = random.split(rng)\n",
        "            logits = self.model.apply({'params': params}, inp_data,\n",
        "                                      add_positional_encoding=False,  # No positional encoding since this is a permutation equivariant task\n",
        "                                      train=train,\n",
        "                                      rngs={'dropout': dropout_apply_rng})\n",
        "            logits = logits.squeeze(axis=-1)\n",
        "            loss = optax.softmax_cross_entropy_with_integer_labels(logits, labels).mean()\n",
        "            acc = (logits.argmax(axis=-1) == labels).astype(jnp.float32).mean()\n",
        "            return loss, (acc, rng)\n",
        "        return calculate_loss"
      ]
    },
    {
      "cell_type": "markdown",
      "metadata": {
        "id": "fBF1OlYTPhQH"
      },
      "source": [
        "Finally, we write our train function below. It has the exact same structure as the reverse task one, hence not much of an explanation is needed here."
      ]
    },
    {
      "cell_type": "code",
      "execution_count": null,
      "metadata": {
        "id": "Haib0AGlPhQH"
      },
      "outputs": [],
      "source": [
        "def train_anomaly(max_epochs=100, **model_args):\n",
        "    num_train_iters = len(anom_train_loader) * max_epochs\n",
        "    # Create a trainer module with specified hyperparameters\n",
        "    trainer = AnomalyTrainer(model_name='SetAnomalyTask',\n",
        "                             exmp_batch=next(iter(anom_train_loader)),\n",
        "                             max_iters=num_train_iters,\n",
        "                             **model_args)\n",
        "    if not trainer.checkpoint_exists():  # Skip training if pretrained model exists\n",
        "        trainer.train_model(anom_train_loader, anom_val_loader, num_epochs=max_epochs)\n",
        "        trainer.load_model()\n",
        "    else:\n",
        "        trainer.load_model(pretrained=True)\n",
        "    train_acc = trainer.eval_model(anom_train_loader)\n",
        "    val_acc = trainer.eval_model(anom_val_loader)\n",
        "    test_acc = trainer.eval_model(anom_test_loader)\n",
        "    # Bind parameters to model for easier inference\n",
        "    trainer.model_bd = trainer.model.bind({'params': trainer.state.params})\n",
        "    return trainer, {'train_acc': train_acc, 'val_acc': val_acc, 'test_acc': test_acc}"
      ]
    },
    {
      "cell_type": "markdown",
      "metadata": {
        "id": "dpOkmNgyPhQH"
      },
      "source": [
        "Let's finally train our model. We will use 4 layers with 4 attention heads each. The hidden dimensionality of the model is 256, and we use a dropout of 0.1 throughout the model for good regularization. Note that we also apply the dropout on the input features, as this makes the model more robust against image noise and generalizes better. Again, we use warmup to slowly start our model training."
      ]
    },
    {
      "cell_type": "code",
      "execution_count": null,
      "metadata": {
        "id": "GXSRVaGhPhQH"
      },
      "outputs": [],
      "source": [
        "anomaly_trainer, anomaly_result = train_anomaly(model_dim=256,\n",
        "                                                num_heads=4,\n",
        "                                                num_classes=1,\n",
        "                                                num_layers=4,\n",
        "                                                dropout_prob=0.1,\n",
        "                                                input_dropout_prob=0.1,\n",
        "                                                lr=5e-4,\n",
        "                                                warmup=100)"
      ]
    },
    {
      "cell_type": "markdown",
      "metadata": {
        "id": "MQbtbTFRPhQH"
      },
      "source": [
        "We can print the achieved accuracy below."
      ]
    },
    {
      "cell_type": "code",
      "execution_count": null,
      "metadata": {
        "id": "dtN5s1cMPhQH"
      },
      "outputs": [],
      "source": [
        "print(f\"Train accuracy: {(100.0*anomaly_result['train_acc']):4.2f}%\")\n",
        "print(f\"Val accuracy:   {(100.0*anomaly_result['val_acc']):4.2f}%\")\n",
        "print(f\"Test accuracy:  {(100.0*anomaly_result['test_acc']):4.2f}%\")"
      ]
    },
    {
      "cell_type": "markdown",
      "metadata": {
        "id": "5r5kLjd4PhQH"
      },
      "source": [
        "With ~94% validation and test accuracy, the model generalizes quite well. It should be noted that you might see slightly different scores depending on what computer/device you are running this notebook. This is because despite setting the seed before generating the test dataset, it may not always be the same across platforms and numpy versions. Nevertheless, we can conclude that the model performs quite well and can solve the task for most sets. Before trying to interpret the model, let's verify that our model is permutation-equivariant, and assigns the same predictions for different permutations of the input set. For this, we sample a batch from the test set and run it through the model to obtain the probabilities."
      ]
    },
    {
      "cell_type": "code",
      "execution_count": null,
      "metadata": {
        "id": "DcugGfGEPhQH"
      },
      "outputs": [],
      "source": [
        "inp_data, indices, labels = next(iter(anom_test_loader))\n",
        "preds = anomaly_trainer.model_bd(inp_data, add_positional_encoding=False, train=False)\n",
        "preds = jax.nn.softmax(preds.squeeze(axis=-1))\n",
        "\n",
        "permut = np.random.permutation(inp_data.shape[1])\n",
        "permut_inp_data = inp_data[:,permut]\n",
        "perm_preds = anomaly_trainer.model_bd(permut_inp_data, add_positional_encoding=False, train=False)\n",
        "perm_preds = jax.nn.softmax(perm_preds.squeeze(axis=-1))\n",
        "\n",
        "preds = jax.device_get(preds)\n",
        "perm_preds = jax.device_get(perm_preds)\n",
        "\n",
        "assert np.abs(preds[:,permut] - perm_preds).max() < 1e-5, \"Predictions are not permutation equivariant\"\n",
        "\n",
        "print(\"Preds\\n\", preds[0,permut])\n",
        "print(\"Permuted preds\\n\", perm_preds[0])"
      ]
    },
    {
      "cell_type": "markdown",
      "metadata": {
        "id": "56A79TgdPhQH"
      },
      "source": [
        "You can see that the predictions are almost exactly the same, and only differ because of slight numerical differences inside the network operation.\n",
        "\n",
        "To interpret the model a little more, we can plot the attention maps inside the model. This will give us an idea of what information the model is sharing/communicating between images, and what each head might represent. First, we need to extract the attention maps for the test batch above, and determine the discrete predictions for simplicity."
      ]
    },
    {
      "cell_type": "code",
      "execution_count": null,
      "metadata": {
        "id": "1EplHzT_PhQH"
      },
      "outputs": [],
      "source": [
        "attention_maps = anomaly_trainer.model_bd.get_attention_maps(inp_data, add_positional_encoding=False, train=False)\n",
        "predictions = preds.argmax(axis=-1)"
      ]
    },
    {
      "cell_type": "markdown",
      "metadata": {
        "id": "GxtfLoRvPhQH"
      },
      "source": [
        "Below we write a plot function which plots the images in the input set, the prediction of the model, and the attention maps of the different heads on layers of the transformer. Feel free to explore the attention maps for different input examples as well."
      ]
    },
    {
      "cell_type": "code",
      "execution_count": null,
      "metadata": {
        "id": "MORr79REPhQH"
      },
      "outputs": [],
      "source": [
        "def visualize_prediction(idx):\n",
        "    visualize_exmp(indices[idx:idx+1], test_set)\n",
        "    print(f'Main class: {class_idx_to_name[test_labels[indices[idx,0]]]}, Anomaly class: {class_idx_to_name[test_labels[indices[idx,-1]]]}')\n",
        "    print(f'Prediction: image {predictions[idx].item()}')\n",
        "    plot_attention_maps(input_data=None, attn_maps=attention_maps, idx=idx)\n",
        "\n",
        "visualize_prediction(0)"
      ]
    },
    {
      "cell_type": "markdown",
      "metadata": {
        "id": "lwi6SWzVPhQI"
      },
      "source": [
        "Depending on the random seed, you might see a slightly different input set. For the version on the website, we compare 9 aquarium fish images with a volcano/mountain. We see that multiple heads, for instance, Layer 2 Head 1, Layer 2 Head 4, and Layer 3 Head 2-4 focus on the last image. Additionally, the heads in Layer 4 all seem to ignore the last image and assign a very low attention probability to it. This shows that the model has indeed recognized that the image doesn't fit the setting, and hence predicted it to be the anomaly. Layer 2 Head 3 and Layer 3 Head 1 seems to take a slightly weighted average of all images. That might indicate that the model extracts the \"average\" information of all images, to compare it to the image features itself.\n",
        "\n",
        "Let's try to find where the model actually makes a mistake. We can do this by identifying the sets where the model predicts something else than 9, as in the dataset, we ensured that the anomaly is always at the last position in the set."
      ]
    },
    {
      "cell_type": "code",
      "execution_count": null,
      "metadata": {
        "id": "iDvIfyCgPhQI"
      },
      "outputs": [],
      "source": [
        "mistakes = np.where(predictions != 9)[0]\n",
        "print(\"Indices with mistake:\", mistakes)"
      ]
    },
    {
      "cell_type": "markdown",
      "metadata": {
        "id": "9LyJ6UajPhQI"
      },
      "source": [
        "As our model achieves ~94% accuracy, we only have very little number of mistakes in a batch of 64 sets. Still, let's visualize one of them, for example the last one:"
      ]
    },
    {
      "cell_type": "code",
      "execution_count": null,
      "metadata": {
        "id": "6NE9sfTVPhQI"
      },
      "outputs": [],
      "source": [
        "visualize_prediction(mistakes[0])\n",
        "print(\"Probabilities:\")\n",
        "for i, p in enumerate(preds[mistakes[0]]):\n",
        "    print(f\"Image {i}: {100.0*p:4.2f}%\")"
      ]
    },
    {
      "cell_type": "markdown",
      "metadata": {
        "id": "bOOLVudfPhQI"
      },
      "source": [
        "In this example, the model confuses a picture of a sea with a forest, giving a probability of ~55% to image 3, and 25% to the actual anomaly. However, the difficulty here is that the picture of the sea actually contains trees in the foreground, which makes the image a bit of an ambiguous class. It is possible a picture of a sea taken out of a forest, which confuses the model. Nevertheless, in general, the model performs quite well."
      ]
    },
    {
      "cell_type": "markdown",
      "metadata": {
        "id": "GH-a0g4ePhQI"
      },
      "source": [
        "## Conclusion\n",
        "\n",
        "In this tutorial, we took a closer look at the Multi-Head Attention layer which uses a scaled dot product between queries and keys to find correlations and similarities between input elements. The Transformer architecture is based on the Multi-Head Attention layer and applies multiple of them in a ResNet-like block. The Transformer is a very important, recent architecture that can be applied to many tasks and datasets. Although it is best known for its success in NLP, there is so much more to it. We have seen its application on sequence-to-sequence tasks and set anomaly detection. Its property of being permutation-equivariant if we do not provide any positional encodings, allows it to generalize to many settings. Hence, it is important to know the architecture, but also its possible issues such as the gradient problem during the first iterations solved by learning rate warm-up. If you are interested in continuing with the study of the Transformer architecture, please have a look at the blog posts listed at the beginning of the tutorial notebook."
      ]
    },
    {
      "cell_type": "markdown",
      "metadata": {
        "id": "roVwjFyJPhQI"
      },
      "source": [
        "---\n",
        "\n",
        "[![Star our repository](https://img.shields.io/static/v1.svg?logo=star&label=⭐&message=Star%20Our%20Repository&color=yellow)](https://github.com/phlippe/uvadlc_notebooks/)  If you found this tutorial helpful, consider ⭐-ing our repository.    \n",
        "[![Ask questions](https://img.shields.io/static/v1.svg?logo=star&label=❔&message=Ask%20Questions&color=9cf)](https://github.com/phlippe/uvadlc_notebooks/issues)  For any questions, typos, or bugs that you found, please raise an issue on GitHub.\n",
        "\n",
        "---"
      ]
    }
  ],
  "metadata": {
    "kernelspec": {
      "display_name": "Python 3 (ipykernel)",
      "language": "python",
      "name": "python3"
    },
    "language_info": {
      "codemirror_mode": {
        "name": "ipython",
        "version": 3
      },
      "file_extension": ".py",
      "mimetype": "text/x-python",
      "name": "python",
      "nbconvert_exporter": "python",
      "pygments_lexer": "ipython3",
      "version": "3.10.4"
    },
    "colab": {
      "provenance": [],
      "include_colab_link": true
    }
  },
  "nbformat": 4,
  "nbformat_minor": 0
}